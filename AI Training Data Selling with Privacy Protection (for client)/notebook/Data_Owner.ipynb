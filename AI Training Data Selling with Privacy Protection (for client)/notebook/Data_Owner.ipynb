{
  "cells": [
    {
      "cell_type": "markdown",
      "id": "Pch48E7FaCB3",
      "metadata": {
        "id": "Pch48E7FaCB3"
      },
      "source": [
        "# 1. Import Libraries & Define Paths"
      ]
    },
    {
      "cell_type": "code",
      "execution_count": 1,
      "id": "xrnAQKtiaGn2",
      "metadata": {
        "id": "xrnAQKtiaGn2"
      },
      "outputs": [],
      "source": [
        "# check if notebook is in colab\n",
        "try:\n",
        "    # install ezkl\n",
        "    import google.colab\n",
        "    import subprocess\n",
        "    import sys\n",
        "    subprocess.check_call([sys.executable, \"-m\", \"pip\", \"install\", \"ezkl\"])\n",
        "    subprocess.check_call([sys.executable, \"-m\", \"pip\", \"install\", \"onnx\"])\n",
        "\n",
        "# rely on local installation of ezkl if the notebook is not in colab\n",
        "except:\n",
        "    pass\n",
        "\n",
        "\n",
        "# here we create and (potentially train a model)\n",
        "\n",
        "# make sure you have the dependencies required here already installed\n",
        "from torch import nn\n",
        "import ezkl\n",
        "import os\n",
        "import json\n",
        "import torch\n",
        "from PIL import Image"
      ]
    },
    {
      "cell_type": "code",
      "source": [
        "!mkdir generating_files"
      ],
      "metadata": {
        "id": "2rmuchUxS1Rv"
      },
      "id": "2rmuchUxS1Rv",
      "execution_count": 2,
      "outputs": []
    },
    {
      "cell_type": "code",
      "source": [
        "model_path = os.path.join('generating_files/network.onnx')\n",
        "compiled_model_path = os.path.join('generating_files/network.compiled')\n",
        "pk_path = os.path.join('generating_files/proving_key.pk')\n",
        "vk_path = os.path.join('generating_files/verification_key.vk')\n",
        "settings_path = os.path.join('generating_files/settings.json')\n",
        "\n",
        "witness_path = os.path.join('generating_files/witness.json')\n",
        "data_path = os.path.join('generating_files/input.json')"
      ],
      "metadata": {
        "id": "NU5O_mlAS2Pa"
      },
      "id": "NU5O_mlAS2Pa",
      "execution_count": 3,
      "outputs": []
    },
    {
      "cell_type": "code",
      "source": [
        "# function divide image into 4 parts\n",
        "def divide_image_to_4_parts(x, w, h):\n",
        "    # Create a copy of x without gradients\n",
        "    x_copy = x.detach().clone()\n",
        "\n",
        "    # Compute midpoints\n",
        "    mid_w, mid_h = w // 2, h // 2\n",
        "\n",
        "    # Divide into four parts\n",
        "    top_left = x_copy[:, :, :mid_w, :mid_h]\n",
        "    top_right = x_copy[:, :, :mid_w, mid_h:]\n",
        "    bottom_left = x_copy[:, :, mid_w:, :mid_h]\n",
        "    bottom_right = x_copy[:, :, mid_w:, mid_h:]\n",
        "\n",
        "    return top_left, top_right, bottom_left, bottom_right"
      ],
      "metadata": {
        "id": "xCPxQSDJUjew"
      },
      "id": "xCPxQSDJUjew",
      "execution_count": 4,
      "outputs": []
    },
    {
      "cell_type": "markdown",
      "source": [
        "# 2. Create Merkle Tree"
      ],
      "metadata": {
        "id": "_uDJ3cjOS8q6"
      },
      "id": "_uDJ3cjOS8q6"
    },
    {
      "cell_type": "markdown",
      "source": [
        "## Two parties jointly create random seed for pseudo number generator"
      ],
      "metadata": {
        "id": "Wxp0P-B8Vm9Q"
      },
      "id": "Wxp0P-B8Vm9Q"
    },
    {
      "cell_type": "code",
      "source": [
        "# (Model Owner do) Model Owner generate a random\n",
        "import random\n",
        "\n",
        "random_model_owner = 68671620         # get the random of model owner and replace here"
      ],
      "metadata": {
        "id": "rCyA7kE8TAnd"
      },
      "id": "rCyA7kE8TAnd",
      "execution_count": 9,
      "outputs": []
    },
    {
      "cell_type": "code",
      "source": [
        "# (Data Owner do) Data Owner generate a random\n",
        "random_data_owner = random.randint(1000, 100000000)\n",
        "print(random_data_owner)"
      ],
      "metadata": {
        "id": "FLfgMdO7TGnR",
        "colab": {
          "base_uri": "https://localhost:8080/"
        },
        "outputId": "10379bef-c21f-450c-ff3e-75c692b7228c"
      },
      "id": "FLfgMdO7TGnR",
      "execution_count": 8,
      "outputs": [
        {
          "output_type": "stream",
          "name": "stdout",
          "text": [
            "79696078\n"
          ]
        }
      ]
    },
    {
      "cell_type": "code",
      "source": [
        "# (Both do) Set seed for random generator\n",
        "torch.manual_seed(random_model_owner + random_data_owner)"
      ],
      "metadata": {
        "colab": {
          "base_uri": "https://localhost:8080/"
        },
        "id": "zpOiULo7Tel7",
        "outputId": "b3bc0ee6-cded-4cf0-c18a-d928943e4ac7"
      },
      "id": "zpOiULo7Tel7",
      "execution_count": 10,
      "outputs": [
        {
          "output_type": "execute_result",
          "data": {
            "text/plain": [
              "<torch._C.Generator at 0x7a0566465170>"
            ]
          },
          "metadata": {},
          "execution_count": 10
        }
      ]
    },
    {
      "cell_type": "markdown",
      "source": [
        "## Two parties create commit convolutional layer (with weight and bias generate by pseudo number generator)"
      ],
      "metadata": {
        "id": "21MUNht-V-CG"
      },
      "id": "21MUNht-V-CG"
    },
    {
      "cell_type": "code",
      "source": [
        "# (Both do) Define the commit-convolutional layer (it can anything, here we chose a conv2d with 2 filter and ker-size=5, stride=2)\n",
        "\n",
        "commit_conv = nn.Conv2d(in_channels=1, out_channels=2, kernel_size=5, stride=2)\n",
        "\n",
        "# Initialize custom weights and bias\n",
        "commit_conv.weight = nn.Parameter(torch.randn(2, 1, 5, 5))  # Shape must match (out_channels, in_channels, kernel_size, kernel_size)\n",
        "commit_conv.bias = nn.Parameter(torch.randn(2))  # Shape must match the out_channels"
      ],
      "metadata": {
        "id": "kC-Q-csyTqyb"
      },
      "id": "kC-Q-csyTqyb",
      "execution_count": 11,
      "outputs": []
    },
    {
      "cell_type": "markdown",
      "source": [
        "## Data Owner process image segment through commit convolutional layer"
      ],
      "metadata": {
        "id": "1_FtJwScWjT0"
      },
      "id": "1_FtJwScWjT0"
    },
    {
      "cell_type": "code",
      "source": [
        "# Input - use grayscale (28x28) image from MNIST dataset to demo\n",
        "# Input for model, use grayscale image from MNIST dataset\n",
        "from keras.datasets import mnist\n",
        "(train_X, train_y), (test_X, test_y) = mnist.load_data()\n",
        "train_X = torch.from_numpy(train_X) / 255.0\n",
        "train_X = train_X.unsqueeze(1)\n",
        "# print(train_X.shape)\n",
        "# print(train_X[0])\n",
        "input_image = train_X[0].unsqueeze(0)\n",
        "print(input_image.shape)"
      ],
      "metadata": {
        "colab": {
          "base_uri": "https://localhost:8080/"
        },
        "id": "Th5plfCjWppc",
        "outputId": "335443ac-ffe5-4f6f-dc76-6aa5435f2916"
      },
      "id": "Th5plfCjWppc",
      "execution_count": 12,
      "outputs": [
        {
          "output_type": "stream",
          "name": "stdout",
          "text": [
            "Downloading data from https://storage.googleapis.com/tensorflow/tf-keras-datasets/mnist.npz\n",
            "\u001b[1m11490434/11490434\u001b[0m \u001b[32m━━━━━━━━━━━━━━━━━━━━\u001b[0m\u001b[37m\u001b[0m \u001b[1m0s\u001b[0m 0us/step\n",
            "torch.Size([1, 1, 28, 28])\n"
          ]
        }
      ]
    },
    {
      "cell_type": "code",
      "source": [
        "# Use the first image in the dataset to demo\n",
        "data_array = ((input_image).detach().numpy()).reshape([-1]).tolist()\n",
        "\n",
        "data = dict(input_data = [data_array])\n",
        "\n",
        "# Serialize data into file:\n",
        "json.dump( data, open(data_path, 'w' ))"
      ],
      "metadata": {
        "id": "2XW8QyLUlrFn"
      },
      "id": "2XW8QyLUlrFn",
      "execution_count": 30,
      "outputs": []
    },
    {
      "cell_type": "code",
      "source": [
        "top_left, top_right, bottom_left, bottom_right = divide_image_to_4_parts(input_image, input_image.shape[2], input_image.shape[3])\n",
        "\n",
        "# mean conv result of each part\n",
        "mean_tl = torch.mean(commit_conv(top_left)).unsqueeze(0)\n",
        "mean_tr = torch.mean(commit_conv(top_right)).unsqueeze(0)\n",
        "mean_bl = torch.mean(commit_conv(bottom_left)).unsqueeze(0)\n",
        "mean_br = torch.mean(commit_conv(bottom_right)).unsqueeze(0)\n",
        "\n",
        "print(format(mean_tl[0],\".10g\"))\n",
        "print(top_left)"
      ],
      "metadata": {
        "id": "Ldrt1WSoWigY",
        "colab": {
          "base_uri": "https://localhost:8080/"
        },
        "outputId": "f266aa29-17fe-40f1-dd2f-d16e3cfa6351"
      },
      "id": "Ldrt1WSoWigY",
      "execution_count": 16,
      "outputs": [
        {
          "output_type": "stream",
          "name": "stdout",
          "text": [
            "-0.3358482718\n",
            "tensor([[[[0.0000, 0.0000, 0.0000, 0.0000, 0.0000, 0.0000, 0.0000, 0.0000,\n",
            "           0.0000, 0.0000, 0.0000, 0.0000, 0.0000, 0.0000],\n",
            "          [0.0000, 0.0000, 0.0000, 0.0000, 0.0000, 0.0000, 0.0000, 0.0000,\n",
            "           0.0000, 0.0000, 0.0000, 0.0000, 0.0000, 0.0000],\n",
            "          [0.0000, 0.0000, 0.0000, 0.0000, 0.0000, 0.0000, 0.0000, 0.0000,\n",
            "           0.0000, 0.0000, 0.0000, 0.0000, 0.0000, 0.0000],\n",
            "          [0.0000, 0.0000, 0.0000, 0.0000, 0.0000, 0.0000, 0.0000, 0.0000,\n",
            "           0.0000, 0.0000, 0.0000, 0.0000, 0.0000, 0.0000],\n",
            "          [0.0000, 0.0000, 0.0000, 0.0000, 0.0000, 0.0000, 0.0000, 0.0000,\n",
            "           0.0000, 0.0000, 0.0000, 0.0000, 0.0000, 0.0000],\n",
            "          [0.0000, 0.0000, 0.0000, 0.0000, 0.0000, 0.0000, 0.0000, 0.0000,\n",
            "           0.0000, 0.0000, 0.0000, 0.0000, 0.0118, 0.0706],\n",
            "          [0.0000, 0.0000, 0.0000, 0.0000, 0.0000, 0.0000, 0.0000, 0.0000,\n",
            "           0.1176, 0.1412, 0.3686, 0.6039, 0.6667, 0.9922],\n",
            "          [0.0000, 0.0000, 0.0000, 0.0000, 0.0000, 0.0000, 0.0000, 0.1922,\n",
            "           0.9333, 0.9922, 0.9922, 0.9922, 0.9922, 0.9922],\n",
            "          [0.0000, 0.0000, 0.0000, 0.0000, 0.0000, 0.0000, 0.0000, 0.0706,\n",
            "           0.8588, 0.9922, 0.9922, 0.9922, 0.9922, 0.9922],\n",
            "          [0.0000, 0.0000, 0.0000, 0.0000, 0.0000, 0.0000, 0.0000, 0.0000,\n",
            "           0.3137, 0.6118, 0.4196, 0.9922, 0.9922, 0.8039],\n",
            "          [0.0000, 0.0000, 0.0000, 0.0000, 0.0000, 0.0000, 0.0000, 0.0000,\n",
            "           0.0000, 0.0549, 0.0039, 0.6039, 0.9922, 0.3529],\n",
            "          [0.0000, 0.0000, 0.0000, 0.0000, 0.0000, 0.0000, 0.0000, 0.0000,\n",
            "           0.0000, 0.0000, 0.0000, 0.5451, 0.9922, 0.7451],\n",
            "          [0.0000, 0.0000, 0.0000, 0.0000, 0.0000, 0.0000, 0.0000, 0.0000,\n",
            "           0.0000, 0.0000, 0.0000, 0.0431, 0.7451, 0.9922],\n",
            "          [0.0000, 0.0000, 0.0000, 0.0000, 0.0000, 0.0000, 0.0000, 0.0000,\n",
            "           0.0000, 0.0000, 0.0000, 0.0000, 0.1373, 0.9451]]]])\n"
          ]
        }
      ]
    },
    {
      "cell_type": "markdown",
      "source": [
        "# 3. Monte-Carlo Check"
      ],
      "metadata": {
        "id": "ZwRqwtGxXJke"
      },
      "id": "ZwRqwtGxXJke"
    },
    {
      "cell_type": "code",
      "source": [
        "# (Data Owner do) Send the mean conv result of each part to Model Owner\n",
        "# (Model Owner do) Model Owner send query to Model Owner and get the result, then do the above process again and compare\n",
        "\n",
        "# ex: check 1st (top-left) of image\n",
        "\n",
        "validate_value = torch.mean(commit_conv(top_left)).unsqueeze(0)\n",
        "\n",
        "assert(mean_tl == validate_value)\n",
        "print(\"Monte-Carlo check pass ==> Agree on dataset\")"
      ],
      "metadata": {
        "colab": {
          "base_uri": "https://localhost:8080/"
        },
        "id": "l65X7-LZU57W",
        "outputId": "0825b86b-751a-4f3e-8426-ff3951f341f4"
      },
      "id": "l65X7-LZU57W",
      "execution_count": null,
      "outputs": [
        {
          "output_type": "stream",
          "name": "stdout",
          "text": [
            "Monte-Carlo check pass ==> Agree on dataset\n"
          ]
        }
      ]
    },
    {
      "cell_type": "markdown",
      "id": "s9bbePJiaKaT",
      "metadata": {
        "id": "s9bbePJiaKaT"
      },
      "source": [
        "# 4. Define Circuit Structure & Generate ONNX File"
      ]
    },
    {
      "cell_type": "code",
      "source": [
        "# Manually create the tensor with the given values\n",
        "weights = torch.tensor([[[[ 0.4051, -1.0027, -0.6679,  0.5655, -0.1901],\n",
        "                         [-0.5042, -1.8444,  1.0797, -1.7020,  0.8695],\n",
        "                         [-1.1467, -0.4110,  2.3773, -0.2481, -1.2287],\n",
        "                         [-1.0960, -0.8917, -0.6548,  1.5678, -0.9284],\n",
        "                         [-1.2372, -1.4590,  0.5970, -0.9647,  3.1039]]],\n",
        "\n",
        "                       [[[-1.7351, -0.9498,  0.0699, -1.2860,  0.8400],\n",
        "                         [-0.3068,  0.2217, -0.3690, -0.1901, -0.0881],\n",
        "                         [-0.5473,  1.0560,  0.5286,  0.4584, -0.4555],\n",
        "                         [-1.7153,  0.0264,  0.2541, -0.1590, -0.4631],\n",
        "                         [-1.6218,  1.0727, -1.2665, -0.5445, -0.2996]]]])\n",
        "\n",
        "\n",
        "bias = torch.tensor([-0.7043, 0.0027])"
      ],
      "metadata": {
        "id": "FkxTaO1xkSFr"
      },
      "id": "FkxTaO1xkSFr",
      "execution_count": 18,
      "outputs": []
    },
    {
      "cell_type": "code",
      "execution_count": 19,
      "id": "RS03gSkkaNfH",
      "metadata": {
        "id": "RS03gSkkaNfH"
      },
      "outputs": [],
      "source": [
        "# Define a model\n",
        "# In this example we define a convolutional layer with 2 filters, kernel-size = 5 and slide 2 step for each stride\n",
        "class MyModel(nn.Module):\n",
        "    def __init__(self):\n",
        "        super(MyModel, self).__init__()\n",
        "\n",
        "        self.conv = nn.Conv2d(in_channels=1, out_channels=2, kernel_size=5, stride=2)\n",
        "        self.conv.weight = nn.Parameter(weights)\n",
        "        self.conv.bias = nn.Parameter(bias)\n",
        "\n",
        "        self.commit_conv = commit_conv\n",
        "\n",
        "    def forward(self, x):\n",
        "        top_left, top_right, bottom_left, bottom_right = divide_image_to_4_parts(x, x.shape[2], x.shape[3])\n",
        "\n",
        "        # mean conv result of each part\n",
        "        mean_tl = torch.mean(self.commit_conv(top_left)).unsqueeze(0)\n",
        "        mean_tr = torch.mean(self.commit_conv(top_right)).unsqueeze(0)\n",
        "        mean_bl = torch.mean(self.commit_conv(bottom_left)).unsqueeze(0)\n",
        "        mean_br = torch.mean(self.commit_conv(bottom_right)).unsqueeze(0)\n",
        "\n",
        "\n",
        "        # Pass through convolution layer and flatten the result\n",
        "        res = self.conv(x).flatten()\n",
        "\n",
        "        # Concatenate sum tensor with flattened convolution output\n",
        "        final = torch.cat((mean_tl, mean_tr, mean_bl, mean_br, res), dim=0)\n",
        "\n",
        "        return final\n",
        "\n",
        "\n",
        "circuit = MyModel()"
      ]
    },
    {
      "cell_type": "code",
      "execution_count": 20,
      "id": "yJPpx3HAbApS",
      "metadata": {
        "id": "yJPpx3HAbApS"
      },
      "outputs": [],
      "source": [
        "# create a dummy data use for export onnx model (because export require run the model to trace)\n",
        "x = torch.rand(1, 1, 28, 28)"
      ]
    },
    {
      "cell_type": "code",
      "execution_count": 21,
      "id": "fWxxCXBZaePq",
      "metadata": {
        "id": "fWxxCXBZaePq",
        "colab": {
          "base_uri": "https://localhost:8080/"
        },
        "outputId": "7c5d2530-3713-45e7-87b0-45a5722f3ffb"
      },
      "outputs": [
        {
          "output_type": "stream",
          "name": "stdout",
          "text": [
            "torch.Size([292])\n"
          ]
        }
      ],
      "source": [
        "# Flips the neural net into inference mode\n",
        "circuit.eval()\n",
        "\n",
        "print(circuit(x).shape)\n",
        "\n",
        "# Export the model\n",
        "torch.onnx.export(circuit,               # model being run\n",
        "                      x,                   # model input (or a tuple for multiple inputs)\n",
        "                      model_path,            # where to save the model (can be a file or file-like object)\n",
        "                      export_params=True,        # store the trained parameter weights inside the model file\n",
        "                      opset_version=18,          # the ONNX version to export the model to\n",
        "                      do_constant_folding=False,  # whether to execute constant folding for optimization\n",
        "                      input_names = ['input'],   # the model's input names\n",
        "                      output_names = ['output'], # the model's output names\n",
        "                      dynamic_axes={'input' : {0 : 'batch_size'},    # variable length axes\n",
        "                                    'output' : {0 : 'batch_size'}})\n"
      ]
    },
    {
      "cell_type": "code",
      "execution_count": 22,
      "id": "LMl2AzqGbuvo",
      "metadata": {
        "colab": {
          "base_uri": "https://localhost:8080/"
        },
        "id": "LMl2AzqGbuvo",
        "outputId": "3a36131f-6a33-479b-b582-0d96a6916a57"
      },
      "outputs": [
        {
          "output_type": "stream",
          "name": "stdout",
          "text": [
            "graph main_graph (\n",
            "  %input[FLOAT, batch_sizex1x28x28]\n",
            ") initializers (\n",
            "  %conv.weight[FLOAT, 2x1x5x5]\n",
            "  %conv.bias[FLOAT, 2]\n",
            "  %commit_conv.weight[FLOAT, 2x1x5x5]\n",
            "  %commit_conv.bias[FLOAT, 2]\n",
            ") {\n",
            "  %/Constant_output_0 = Constant[value = <Scalar Tensor []>]()\n",
            "  %/Shape_output_0 = Shape(%input)\n",
            "  %/Constant_1_output_0 = Constant[value = <Scalar Tensor []>]()\n",
            "  %/Gather_output_0 = Gather[axis = 0](%/Shape_output_0, %/Constant_1_output_0)\n",
            "  %/Constant_2_output_0 = Constant[value = <Scalar Tensor []>]()\n",
            "  %/Shape_1_output_0 = Shape(%input)\n",
            "  %/Constant_3_output_0 = Constant[value = <Scalar Tensor []>]()\n",
            "  %/Gather_1_output_0 = Gather[axis = 0](%/Shape_1_output_0, %/Constant_3_output_0)\n",
            "  %/Constant_4_output_0 = Constant[value = <Scalar Tensor []>]()\n",
            "  %/Div_output_0 = Div(%/Gather_output_0, %/Constant_4_output_0)\n",
            "  %/Cast_output_0 = Cast[to = 7](%/Div_output_0)\n",
            "  %/Cast_1_output_0 = Cast[to = 7](%/Cast_output_0)\n",
            "  %/Constant_5_output_0 = Constant[value = <Scalar Tensor []>]()\n",
            "  %/Div_1_output_0 = Div(%/Gather_1_output_0, %/Constant_5_output_0)\n",
            "  %/Cast_2_output_0 = Cast[to = 7](%/Div_1_output_0)\n",
            "  %/Cast_3_output_0 = Cast[to = 7](%/Cast_2_output_0)\n",
            "  %/Constant_6_output_0 = Constant[value = <Scalar Tensor []>]()\n",
            "  %/Constant_7_output_0 = Constant[value = <Scalar Tensor []>]()\n",
            "  %/Constant_8_output_0 = Constant[value = <Scalar Tensor []>]()\n",
            "  %/Constant_9_output_0 = Constant[value = <Tensor>]()\n",
            "  %/Unsqueeze_output_0 = Unsqueeze(%/Constant_output_0, %/Constant_9_output_0)\n",
            "  %/Constant_10_output_0 = Constant[value = <Tensor>]()\n",
            "  %/Unsqueeze_1_output_0 = Unsqueeze(%/Constant_6_output_0, %/Constant_10_output_0)\n",
            "  %/Constant_11_output_0 = Constant[value = <Tensor>]()\n",
            "  %/Unsqueeze_2_output_0 = Unsqueeze(%/Cast_1_output_0, %/Constant_11_output_0)\n",
            "  %/Constant_12_output_0 = Constant[value = <Tensor>]()\n",
            "  %/Unsqueeze_3_output_0 = Unsqueeze(%/Constant_8_output_0, %/Constant_12_output_0)\n",
            "  %/Slice_output_0 = Slice(%input, %/Unsqueeze_1_output_0, %/Unsqueeze_2_output_0, %/Unsqueeze_output_0, %/Unsqueeze_3_output_0)\n",
            "  %/Constant_13_output_0 = Constant[value = <Tensor>]()\n",
            "  %/Unsqueeze_4_output_0 = Unsqueeze(%/Constant_2_output_0, %/Constant_13_output_0)\n",
            "  %/Constant_14_output_0 = Constant[value = <Tensor>]()\n",
            "  %/Unsqueeze_5_output_0 = Unsqueeze(%/Constant_6_output_0, %/Constant_14_output_0)\n",
            "  %/Constant_15_output_0 = Constant[value = <Tensor>]()\n",
            "  %/Unsqueeze_6_output_0 = Unsqueeze(%/Cast_3_output_0, %/Constant_15_output_0)\n",
            "  %/Constant_16_output_0 = Constant[value = <Tensor>]()\n",
            "  %/Unsqueeze_7_output_0 = Unsqueeze(%/Constant_8_output_0, %/Constant_16_output_0)\n",
            "  %/Slice_1_output_0 = Slice(%/Slice_output_0, %/Unsqueeze_5_output_0, %/Unsqueeze_6_output_0, %/Unsqueeze_4_output_0, %/Unsqueeze_7_output_0)\n",
            "  %/Constant_17_output_0 = Constant[value = <Tensor>]()\n",
            "  %/Unsqueeze_8_output_0 = Unsqueeze(%/Constant_2_output_0, %/Constant_17_output_0)\n",
            "  %/Constant_18_output_0 = Constant[value = <Tensor>]()\n",
            "  %/Unsqueeze_9_output_0 = Unsqueeze(%/Cast_3_output_0, %/Constant_18_output_0)\n",
            "  %/Constant_19_output_0 = Constant[value = <Tensor>]()\n",
            "  %/Unsqueeze_10_output_0 = Unsqueeze(%/Constant_7_output_0, %/Constant_19_output_0)\n",
            "  %/Constant_20_output_0 = Constant[value = <Tensor>]()\n",
            "  %/Unsqueeze_11_output_0 = Unsqueeze(%/Constant_8_output_0, %/Constant_20_output_0)\n",
            "  %/Slice_2_output_0 = Slice(%/Slice_output_0, %/Unsqueeze_9_output_0, %/Unsqueeze_10_output_0, %/Unsqueeze_8_output_0, %/Unsqueeze_11_output_0)\n",
            "  %/Constant_21_output_0 = Constant[value = <Tensor>]()\n",
            "  %/Unsqueeze_12_output_0 = Unsqueeze(%/Constant_output_0, %/Constant_21_output_0)\n",
            "  %/Constant_22_output_0 = Constant[value = <Tensor>]()\n",
            "  %/Unsqueeze_13_output_0 = Unsqueeze(%/Cast_1_output_0, %/Constant_22_output_0)\n",
            "  %/Constant_23_output_0 = Constant[value = <Tensor>]()\n",
            "  %/Unsqueeze_14_output_0 = Unsqueeze(%/Constant_7_output_0, %/Constant_23_output_0)\n",
            "  %/Constant_24_output_0 = Constant[value = <Tensor>]()\n",
            "  %/Unsqueeze_15_output_0 = Unsqueeze(%/Constant_8_output_0, %/Constant_24_output_0)\n",
            "  %/Slice_3_output_0 = Slice(%input, %/Unsqueeze_13_output_0, %/Unsqueeze_14_output_0, %/Unsqueeze_12_output_0, %/Unsqueeze_15_output_0)\n",
            "  %/Constant_25_output_0 = Constant[value = <Tensor>]()\n",
            "  %/Unsqueeze_16_output_0 = Unsqueeze(%/Constant_2_output_0, %/Constant_25_output_0)\n",
            "  %/Constant_26_output_0 = Constant[value = <Tensor>]()\n",
            "  %/Unsqueeze_17_output_0 = Unsqueeze(%/Constant_6_output_0, %/Constant_26_output_0)\n",
            "  %/Constant_27_output_0 = Constant[value = <Tensor>]()\n",
            "  %/Unsqueeze_18_output_0 = Unsqueeze(%/Cast_3_output_0, %/Constant_27_output_0)\n",
            "  %/Constant_28_output_0 = Constant[value = <Tensor>]()\n",
            "  %/Unsqueeze_19_output_0 = Unsqueeze(%/Constant_8_output_0, %/Constant_28_output_0)\n",
            "  %/Slice_4_output_0 = Slice(%/Slice_3_output_0, %/Unsqueeze_17_output_0, %/Unsqueeze_18_output_0, %/Unsqueeze_16_output_0, %/Unsqueeze_19_output_0)\n",
            "  %/Constant_29_output_0 = Constant[value = <Tensor>]()\n",
            "  %/Unsqueeze_20_output_0 = Unsqueeze(%/Constant_2_output_0, %/Constant_29_output_0)\n",
            "  %/Constant_30_output_0 = Constant[value = <Tensor>]()\n",
            "  %/Unsqueeze_21_output_0 = Unsqueeze(%/Cast_3_output_0, %/Constant_30_output_0)\n",
            "  %/Constant_31_output_0 = Constant[value = <Tensor>]()\n",
            "  %/Unsqueeze_22_output_0 = Unsqueeze(%/Constant_7_output_0, %/Constant_31_output_0)\n",
            "  %/Constant_32_output_0 = Constant[value = <Tensor>]()\n",
            "  %/Unsqueeze_23_output_0 = Unsqueeze(%/Constant_8_output_0, %/Constant_32_output_0)\n",
            "  %/Slice_5_output_0 = Slice(%/Slice_3_output_0, %/Unsqueeze_21_output_0, %/Unsqueeze_22_output_0, %/Unsqueeze_20_output_0, %/Unsqueeze_23_output_0)\n",
            "  %/commit_conv/Conv_output_0 = Conv[dilations = [1, 1], group = 1, kernel_shape = [5, 5], pads = [0, 0, 0, 0], strides = [2, 2]](%/Slice_1_output_0, %commit_conv.weight, %commit_conv.bias)\n",
            "  %/ReduceMean_output_0 = ReduceMean[keepdims = 0](%/commit_conv/Conv_output_0)\n",
            "  %/Constant_33_output_0 = Constant[value = <Tensor>]()\n",
            "  %/Unsqueeze_24_output_0 = Unsqueeze(%/ReduceMean_output_0, %/Constant_33_output_0)\n",
            "  %/commit_conv_1/Conv_output_0 = Conv[dilations = [1, 1], group = 1, kernel_shape = [5, 5], pads = [0, 0, 0, 0], strides = [2, 2]](%/Slice_2_output_0, %commit_conv.weight, %commit_conv.bias)\n",
            "  %/ReduceMean_1_output_0 = ReduceMean[keepdims = 0](%/commit_conv_1/Conv_output_0)\n",
            "  %/Constant_34_output_0 = Constant[value = <Tensor>]()\n",
            "  %/Unsqueeze_25_output_0 = Unsqueeze(%/ReduceMean_1_output_0, %/Constant_34_output_0)\n",
            "  %/commit_conv_2/Conv_output_0 = Conv[dilations = [1, 1], group = 1, kernel_shape = [5, 5], pads = [0, 0, 0, 0], strides = [2, 2]](%/Slice_4_output_0, %commit_conv.weight, %commit_conv.bias)\n",
            "  %/ReduceMean_2_output_0 = ReduceMean[keepdims = 0](%/commit_conv_2/Conv_output_0)\n",
            "  %/Constant_35_output_0 = Constant[value = <Tensor>]()\n",
            "  %/Unsqueeze_26_output_0 = Unsqueeze(%/ReduceMean_2_output_0, %/Constant_35_output_0)\n",
            "  %/commit_conv_3/Conv_output_0 = Conv[dilations = [1, 1], group = 1, kernel_shape = [5, 5], pads = [0, 0, 0, 0], strides = [2, 2]](%/Slice_5_output_0, %commit_conv.weight, %commit_conv.bias)\n",
            "  %/ReduceMean_3_output_0 = ReduceMean[keepdims = 0](%/commit_conv_3/Conv_output_0)\n",
            "  %/Constant_36_output_0 = Constant[value = <Tensor>]()\n",
            "  %/Unsqueeze_27_output_0 = Unsqueeze(%/ReduceMean_3_output_0, %/Constant_36_output_0)\n",
            "  %/conv/Conv_output_0 = Conv[dilations = [1, 1], group = 1, kernel_shape = [5, 5], pads = [0, 0, 0, 0], strides = [2, 2]](%input, %conv.weight, %conv.bias)\n",
            "  %/Shape_2_output_0 = Shape(%/conv/Conv_output_0)\n",
            "  %/Constant_37_output_0 = Constant[value = <Tensor>]()\n",
            "  %/Constant_38_output_0 = Constant[value = <Tensor>]()\n",
            "  %/Constant_39_output_0 = Constant[value = <Tensor>]()\n",
            "  %/Slice_6_output_0 = Slice(%/Shape_2_output_0, %/Constant_38_output_0, %/Constant_39_output_0, %/Constant_37_output_0)\n",
            "  %/Constant_40_output_0 = Constant[value = <Tensor>]()\n",
            "  %/Concat_output_0 = Concat[axis = 0](%/Slice_6_output_0, %/Constant_40_output_0)\n",
            "  %/Reshape_output_0 = Reshape[allowzero = 0](%/conv/Conv_output_0, %/Concat_output_0)\n",
            "  %output = Concat[axis = 0](%/Unsqueeze_24_output_0, %/Unsqueeze_25_output_0, %/Unsqueeze_26_output_0, %/Unsqueeze_27_output_0, %/Reshape_output_0)\n",
            "  return %output\n",
            "}\n"
          ]
        }
      ],
      "source": [
        "# print onnx file\n",
        "import onnx\n",
        "\n",
        "# Load the ONNX model\n",
        "model = onnx.load(model_path)\n",
        "\n",
        "# Print a human-readable representation of the model\n",
        "print(onnx.helper.printable_graph(model.graph))"
      ]
    },
    {
      "cell_type": "markdown",
      "id": "PqQ0fTXJbocJ",
      "metadata": {
        "id": "PqQ0fTXJbocJ"
      },
      "source": [
        "# 5. Setup Phase"
      ]
    },
    {
      "cell_type": "code",
      "execution_count": 23,
      "id": "_GGmHhwOb8em",
      "metadata": {
        "id": "_GGmHhwOb8em"
      },
      "outputs": [],
      "source": [
        "py_run_args = ezkl.PyRunArgs()\n",
        "py_run_args.input_visibility = \"private\"\n",
        "py_run_args.output_visibility = \"public\"\n",
        "py_run_args.param_visibility = \"fixed\" # private by default\n",
        "py_run_args.input_scale = 40\n",
        "py_run_args.param_scale = 43\n",
        "py_run_args.scale_rebase_multiplier = 10\n",
        "\n",
        "res = ezkl.gen_settings(model_path, settings_path, py_run_args=py_run_args)\n",
        "\n",
        "assert res == True"
      ]
    },
    {
      "cell_type": "code",
      "execution_count": 24,
      "id": "tkPJNlXEeaDi",
      "metadata": {
        "id": "tkPJNlXEeaDi"
      },
      "outputs": [],
      "source": [
        "res = ezkl.compile_circuit(model_path, compiled_model_path, settings_path)\n",
        "assert res == True"
      ]
    },
    {
      "cell_type": "code",
      "execution_count": 25,
      "id": "sC5GCZIUei1F",
      "metadata": {
        "id": "sC5GCZIUei1F"
      },
      "outputs": [],
      "source": [
        "# srs path\n",
        "res = await ezkl.get_srs(settings_path)"
      ]
    },
    {
      "cell_type": "code",
      "execution_count": 27,
      "id": "ZqW7w4vaemed",
      "metadata": {
        "id": "ZqW7w4vaemed"
      },
      "outputs": [],
      "source": [
        "# now generate the witness file\n",
        "\n",
        "res = await ezkl.gen_witness(data_path, compiled_model_path, witness_path)\n",
        "assert os.path.isfile(witness_path)"
      ]
    },
    {
      "cell_type": "code",
      "execution_count": 28,
      "id": "n3V8-j0WepaL",
      "metadata": {
        "colab": {
          "base_uri": "https://localhost:8080/"
        },
        "id": "n3V8-j0WepaL",
        "outputId": "bb011acb-aede-4f5f-ff57-b02eb2143d38"
      },
      "outputs": [
        {
          "output_type": "stream",
          "name": "stdout",
          "text": [
            "Elapsed time: 28.647846 seconds\n"
          ]
        }
      ],
      "source": [
        "\n",
        "# HERE WE SETUP THE CIRCUIT PARAMS\n",
        "# WE GOT KEYS\n",
        "# WE GOT CIRCUIT PARAMETERS\n",
        "# EVERYTHING ANYONE HAS EVER NEEDED FOR ZK\n",
        "\n",
        "\n",
        "import time\n",
        "\n",
        "# Start time\n",
        "start_time = time.time()\n",
        "\n",
        "res = ezkl.setup(\n",
        "        compiled_model_path,\n",
        "        vk_path,\n",
        "        pk_path,\n",
        "\n",
        "    )\n",
        "\n",
        "assert res == True\n",
        "assert os.path.isfile(vk_path)\n",
        "assert os.path.isfile(pk_path)\n",
        "assert os.path.isfile(settings_path)\n",
        "\n",
        "# End time\n",
        "end_time = time.time()\n",
        "\n",
        "# Calculate elapsed time\n",
        "elapsed_time = end_time - start_time\n",
        "print(f\"Elapsed time: {elapsed_time:.6f} seconds\")"
      ]
    },
    {
      "cell_type": "markdown",
      "id": "5nFMvWwGeqJF",
      "metadata": {
        "id": "5nFMvWwGeqJF"
      },
      "source": [
        "# 6. Proving Phase"
      ]
    },
    {
      "cell_type": "markdown",
      "source": [
        "NOTE: Because our input is image with shape (1, 28, 28), the convolutional layer we define with 2 out channel, stride 2 --> output of conv layer will have shape (1,2,14,14)\n",
        "\n",
        "So when we flatten it, we will have 2x14x14 = 288 elements. Plus 4 element for commit value, we have total 292 elements.\n",
        "\n",
        "Because we set up output is public, you will see 292 value in \"instances\" of the proof - corresponding to 292 elements.\n",
        "\n"
      ],
      "metadata": {
        "id": "c_5HJe9OZxxj"
      },
      "id": "c_5HJe9OZxxj"
    },
    {
      "cell_type": "code",
      "execution_count": 29,
      "id": "qe3vTl97er53",
      "metadata": {
        "id": "qe3vTl97er53",
        "colab": {
          "base_uri": "https://localhost:8080/"
        },
        "outputId": "e6a7a156-4ad6-4f8a-c047-18a47d5d0917"
      },
      "outputs": [
        {
          "output_type": "stream",
          "name": "stdout",
          "text": [
            "{'instances': [['010000f093d42086591b9b8db55eb5125d588181b64550b829a031e1724e6430', '010000f093a5b05dfc33dc6aff6ff2fe5c588181b64550b829a031e1724e6430', '010000f09355cce874ae63f35fa441085d588181b64550b829a031e1724e6430', '010000f09305e128ba600217653417f15c588181b64550b829a031e1724e6430', '010000f093f5e1439170b97908a820fb5c588181b64550b829a031e1724e6430', '010000f093f5e1439170b97908a820fb5c588181b64550b829a031e1724e6430', '010000f093f5e1439170b97908a820fb5c588181b64550b829a031e1724e6430', '010000f093f5e1439170b97908a820fb5c588181b64550b829a031e1724e6430', '010000f093f5e1439170b97908a820fb5c588181b64550b829a031e1724e6430', '010000f093f5e1439170b97908a820fb5c588181b64550b829a031e1724e6430', '010000f093f5e1439170b97908a820fb5c588181b64550b829a031e1724e6430', '010000f093f5e1439170b97908a820fb5c588181b64550b829a031e1724e6430', '010000f093f5e1439170b97908a820fb5c588181b64550b829a031e1724e6430', '010000f093f5e1439170b97908a820fb5c588181b64550b829a031e1724e6430', '010000f093f5e1439170b97908a820fb5c588181b64550b829a031e1724e6430', '010000f093f5e1439170b97908a820fb5c588181b64550b829a031e1724e6430', '010000f093f5e1439170b97908a820fb5c588181b64550b829a031e1724e6430', '010000f093f5e1439170b97908a820fb5c588181b64550b829a031e1724e6430', '010000f093f5e14391f06ab3cd837f125d588181b64550b829a031e1724e6430', '000000000000000000b089719c63ee1700000000000000000000000000000000', '000000000000000000618d53a878f52800000000000000000000000000000000', '0000000000000000000f24a407200c2100000000000000000000000000000000', '010000f093f5e14391743e24e50d5af95c588181b64550b829a031e1724e6430', '010000f093f5e1439190fd690ad7e7d65c588181b64550b829a031e1724e6430', '010000f093f5e143917067de6667c7925c588181b64550b829a031e1724e6430', '010000f093f5e143919022a3ee030dd35c588181b64550b829a031e1724e6430', '010000f093f5e1439170867d84d152045c588181b64550b829a031e1724e6430', '010000f093f5e14391308b34c9adc6465c588181b64550b829a031e1724e6430', '010000f093f5e1439170b97908a820fb5c588181b64550b829a031e1724e6430', '010000f093f5e1439170b97908a820fb5c588181b64550b829a031e1724e6430', '000000000000000000f0ca9900a0be4b00000000000000000000000000000000', '0000000000000000007c95e5e9852c5e00000000000000000000000000000000', '010000f093f5e14391fd0f134180897b5c588181b64550b829a031e1724e6430', '010000f093f5e14391c0054f8e43662d5c588181b64550b829a031e1724e6430', '010000f093f5e14391b075dc323ee1805c588181b64550b829a031e1724e6430', '010000f093f5e1439120e75a57547eed5b588181b64550b829a031e1724e6430', '010000f093f5e1439130801ce57d899a5b588181b64550b829a031e1724e6430', '010000f093f5e14391e0d5fda142b29b5c588181b64550b829a031e1724e6430', '010000f093f5e14391b87f0b8fb3d9615c588181b64550b829a031e1724e6430', '010000f093f5e14391f03edd2a98a1575c588181b64550b829a031e1724e6430', '010000f093f5e1439170b97908a820fb5c588181b64550b829a031e1724e6430', '010000f093f5e1439170b97908a820fb5c588181b64550b829a031e1724e6430', '010000f093f5e14391303d0cf80368c15c588181b64550b829a031e1724e6430', '010000f093f5e1439128f359e74c67235d588181b64550b829a031e1724e6430', '010000f093f5e1439117289b79e48cc85c588181b64550b829a031e1724e6430', '010000f093f5e14391a28f66beeaf2e05b588181b64550b829a031e1724e6430', '010000f093f5e143910cad2ea590a4015b588181b64550b829a031e1724e6430', '010000f093f5e14391306523ad8d8f875c588181b64550b829a031e1724e6430', '010000f093f5e1439170bf86a0a96da15b588181b64550b829a031e1724e6430', '010000f093f5e14391a065a95c386faa5c588181b64550b829a031e1724e6430', '010000f093f5e143915077f6fe289da65c588181b64550b829a031e1724e6430', '010000f093f5e143913019e4e88be9f95c588181b64550b829a031e1724e6430', '010000f093f5e1439170b97908a820fb5c588181b64550b829a031e1724e6430', '010000f093f5e1439170b97908a820fb5c588181b64550b829a031e1724e6430', '010000f093f5e14391b0dc283413b1045d588181b64550b829a031e1724e6430', '010000f093f5e1439148fc82743defd25c588181b64550b829a031e1724e6430', '010000f093f5e14391be0d3a5b5895895c588181b64550b829a031e1724e6430', '010000f093f5e14391c4845b13b277c65c588181b64550b829a031e1724e6430', '010000f093f5e14391e799090aaccbff5a588181b64550b829a031e1724e6430', '010000f093f5e143917c21454995728c5c588181b64550b829a031e1724e6430', '010000f093f5e14391f0d05acc99dc8a5c588181b64550b829a031e1724e6430', '010000f093f5e1439170b97908a820fb5c588181b64550b829a031e1724e6430', '010000f093f5e1439170b97908a820fb5c588181b64550b829a031e1724e6430', '010000f093f5e1439170b97908a820fb5c588181b64550b829a031e1724e6430', '010000f093f5e1439170b97908a820fb5c588181b64550b829a031e1724e6430', '010000f093f5e1439170b97908a820fb5c588181b64550b829a031e1724e6430', '010000f093f5e1439170b97908a820fb5c588181b64550b829a031e1724e6430', '010000f093f5e143317ecf82071e11fd5c588181b64550b829a031e1724e6430', '010000f093f5e143117c0be26623a0b95c588181b64550b829a031e1724e6430', '0000000000000000003eb3bba33d045900000000000000000000000000000000', '010000f093f5e14391885e91c72226af5c588181b64550b829a031e1724e6430', '010000f093f5e143917c3477befe13e95b588181b64550b829a031e1724e6430', '010000f093f5e14391e628b8886dce665c588181b64550b829a031e1724e6430', '010000f093f5e1439150cfed9c5f5df35c588181b64550b829a031e1724e6430', '010000f093f5e1439170b97908a820fb5c588181b64550b829a031e1724e6430', '010000f093f5e1439170b97908a820fb5c588181b64550b829a031e1724e6430', '010000f093f5e1439170b97908a820fb5c588181b64550b829a031e1724e6430', '010000f093f5e1439170b97908a820fb5c588181b64550b829a031e1724e6430', '010000f093f5e1439170b97908a820fb5c588181b64550b829a031e1724e6430', '010000f093f5e1439170b97908a820fb5c588181b64550b829a031e1724e6430', '010000f093f5e14391a0d8d568f742fb5c588181b64550b829a031e1724e6430', '010000f093f5e14391c81b3eccf82c735c588181b64550b829a031e1724e6430', '010000f093f5e14391e086766aa5bad35c588181b64550b829a031e1724e6430', '00000000000000000065a544149d2d2a00000000000000000000000000000000', '010000f093f5e14391034e1e176c0f9a5b588181b64550b829a031e1724e6430', '010000f093f5e14391404eddabe397315c588181b64550b829a031e1724e6430', '010000f093f5e1439170b97908a820fb5c588181b64550b829a031e1724e6430', '010000f093f5e1439170b97908a820fb5c588181b64550b829a031e1724e6430', '010000f093f5e1439170b97908a820fb5c588181b64550b829a031e1724e6430', '010000f093f5e1439170b97908a820fb5c588181b64550b829a031e1724e6430', '010000f093f5e1439170b97908a820fb5c588181b64550b829a031e1724e6430', '010000f093f5e1439170b97908a820fb5c588181b64550b829a031e1724e6430', '010000f093f5e1439170b97908a820fb5c588181b64550b829a031e1724e6430', '000000000000000000609abd871ba00000000000000000000000000000000000', '010000f093f5e143919690410c679a225d588181b64550b829a031e1724e6430', '010000f093f5e14391aa809a035517bb5c588181b64550b829a031e1724e6430', '010000f093f5e1439198b83635c8e2225c588181b64550b829a031e1724e6430', '010000f093f5e143918ec2cace6f30605b588181b64550b829a031e1724e6430', '010000f093f5e14391ccbfc456dae6e85c588181b64550b829a031e1724e6430', '010000f093f5e1439170b97908a820fb5c588181b64550b829a031e1724e6430', '010000f093f5e1439170b97908a820fb5c588181b64550b829a031e1724e6430', '010000f093f5e1439170b97908a820fb5c588181b64550b829a031e1724e6430', '010000f093f5e1439170b97908a820fb5c588181b64550b829a031e1724e6430', '010000f093f5e14391f0a20578f1d20d5d588181b64550b829a031e1724e6430', '00000000000000000040ef0b7da2fe5d00000000000000000000000000000000', '000000000000000000f0e3b1425ff53a00000000000000000000000000000000', '010000f093f5e14391584b1c65b978b75c588181b64550b829a031e1724e6430', '010000f093f5e14391e0f4ef1688bacf5b588181b64550b829a031e1724e6430', '010000f093f5e14391baaffbcdbdb6785b588181b64550b829a031e1724e6430', '010000f093f5e14391acb1df6e3729815b588181b64550b829a031e1724e6430', '010000f093f5e143914eb225470074f25c588181b64550b829a031e1724e6430', '010000f093f5e1439170b97908a820fb5c588181b64550b829a031e1724e6430', '010000f093f5e1439170b97908a820fb5c588181b64550b829a031e1724e6430', '010000f093f5e14391f0da57225f26095d588181b64550b829a031e1724e6430', '000000000000000000b8232d7d03775100000000000000000000000000000000', '000000000000000000282ff73791861400000000000000000000000000000000', '010000f093f5e14391b8b692ebab4dc45c588181b64550b829a031e1724e6430', '010000f093f5e1439114d03b112e4c1f5c588181b64550b829a031e1724e6430', '010000f093f5e14391704c902dbc72a35b588181b64550b829a031e1724e6430', '010000f093f5e1439130b3b03f7a1aca5b588181b64550b829a031e1724e6430', '010000f093f5e143d13746cc1a2b12dc5b588181b64550b829a031e1724e6430', '010000f093f5e14391b134590ca316565c588181b64550b829a031e1724e6430', '010000f093f5e1439112bf0c68b654fb5c588181b64550b829a031e1724e6430', '010000f093f5e1439170b97908a820fb5c588181b64550b829a031e1724e6430', '000000000000000000d0e78132420e3000000000000000000000000000000000', '0000000000000000004059829236916f00000000000000000000000000000000', '010000f093f5e143913865468b7878915c588181b64550b829a031e1724e6430', '010000f093f5e143915ad1f31db784635c588181b64550b829a031e1724e6430', '010000f093f5e143911896895db80ef65b588181b64550b829a031e1724e6430', '010000f093f5e1439150916f0f4cf3a55b588181b64550b829a031e1724e6430', '010000f093f5e1439123f736797d13d75b588181b64550b829a031e1724e6430', '010000f093f5e143918207f666700c455c588181b64550b829a031e1724e6430', '010000f093f5e14391765f3fae2d04ca5c588181b64550b829a031e1724e6430', '010000f093f5e14391b0a40995d80e035d588181b64550b829a031e1724e6430', '010000f093f5e1439170b97908a820fb5c588181b64550b829a031e1724e6430', '010000f093f5e1439170b97908a820fb5c588181b64550b829a031e1724e6430', '010000f093f5e1439180d36fe5c030dd5c588181b64550b829a031e1724e6430', '010000f093f5e143914ab46032f963e45c588181b64550b829a031e1724e6430', '010000f093f5e14391584423a60751bc5c588181b64550b829a031e1724e6430', '010000f093f5e143916052adbc04802d5c588181b64550b829a031e1724e6430', '010000f093f5e14391f6806cc15c32265c588181b64550b829a031e1724e6430', '010000f093f5e14391607e8a24e75d295c588181b64550b829a031e1724e6430', '010000f093f5e14391187ab333ceb8c15c588181b64550b829a031e1724e6430', '010000f093f5e143916891030015ff005d588181b64550b829a031e1724e6430', '010000f093f5e1439170b97908a820fb5c588181b64550b829a031e1724e6430', '010000f093f5e1439170b97908a820fb5c588181b64550b829a031e1724e6430', '010000f093f5e1439170b97908a820fb5c588181b64550b829a031e1724e6430', '010000f093f5e1439170b97908a820fb5c588181b64550b829a031e1724e6430', '0000000000000000000000009f3c2c0000000000000000000000000000000000', '0000000000000000000000009f3c2c0000000000000000000000000000000000', '0000000000000000000000009f3c2c0000000000000000000000000000000000', '0000000000000000000000009f3c2c0000000000000000000000000000000000', '0000000000000000000000009f3c2c0000000000000000000000000000000000', '0000000000000000000000009f3c2c0000000000000000000000000000000000', '0000000000000000000000009f3c2c0000000000000000000000000000000000', '0000000000000000000000009f3c2c0000000000000000000000000000000000', '0000000000000000000000009f3c2c0000000000000000000000000000000000', '0000000000000000000000009f3c2c0000000000000000000000000000000000', '0000000000000000000000009f3c2c0000000000000000000000000000000000', '0000000000000000000000009f3c2c0000000000000000000000000000000000', '0000000000000000000000009f3c2c0000000000000000000000000000000000', '0000000000000000000000009f3c2c0000000000000000000000000000000000', '010000f093f5e14391c0bf7305a81e265d588181b64550b829a031e1724e6430', '010000f093f5e1439150536ebd04da125d588181b64550b829a031e1724e6430', '010000f093f5e1431198074e43cbcce55c588181b64550b829a031e1724e6430', '010000f093f5e14311954775d0cf51bd5c588181b64550b829a031e1724e6430', '010000f093f5e1439118eabcb2fce2915c588181b64550b829a031e1724e6430', '010000f093f5e14391f4f1625fd13b685c588181b64550b829a031e1724e6430', '010000f093f5e14391062ad4ca15f2545c588181b64550b829a031e1724e6430', '010000f093f5e14391c4c6f64bc87a135c588181b64550b829a031e1724e6430', '010000f093f5e14391d85bc2c40eba805c588181b64550b829a031e1724e6430', '010000f093f5e14391a0b71d6557bd805c588181b64550b829a031e1724e6430', '0000000000000000000000009f3c2c0000000000000000000000000000000000', '0000000000000000000000009f3c2c0000000000000000000000000000000000', '010000f093f5e14391ac2c54ac9666f45c588181b64550b829a031e1724e6430', '010000f093f5e14391986bf652f362975c588181b64550b829a031e1724e6430', '010000f093f5e143d1770882241849215c588181b64550b829a031e1724e6430', '010000f093f5e143113c5d31e7771f325c588181b64550b829a031e1724e6430', '010000f093f5e1439122e334f37d6d615c588181b64550b829a031e1724e6430', '010000f093f5e1439176c660ab833d585c588181b64550b829a031e1724e6430', '010000f093f5e14391627d959a795bb05c588181b64550b829a031e1724e6430', '010000f093f5e143917a3cc551931b085d588181b64550b829a031e1724e6430', '000000000000000000c8d5712d3dd20200000000000000000000000000000000', '010000f093f5e1439178c0925558cf015d588181b64550b829a031e1724e6430', '0000000000000000000000009f3c2c0000000000000000000000000000000000', '0000000000000000000000009f3c2c0000000000000000000000000000000000', '010000f093f5e143911cda584707d6065d588181b64550b829a031e1724e6430', '010000f093f5e14391f465a1c296941e5d588181b64550b829a031e1724e6430', '010000f093f5e1439110f4efeebc2fb95c588181b64550b829a031e1724e6430', '010000f093f5e143911236fa176ada815c588181b64550b829a031e1724e6430', '010000f093f5e14391624069963e51d05b588181b64550b829a031e1724e6430', '010000f093f5e1439158ac2e5677a27e5c588181b64550b829a031e1724e6430', '010000f093f5e14391c00aa98ccc42785c588181b64550b829a031e1724e6430', '010000f093f5e1439100e8fbe12a1b6f5c588181b64550b829a031e1724e6430', '010000f093f5e1439174dac0b05977685c588181b64550b829a031e1724e6430', '010000f093f5e14391d033b2a0c332c15c588181b64550b829a031e1724e6430', '0000000000000000000000009f3c2c0000000000000000000000000000000000', '0000000000000000000000009f3c2c0000000000000000000000000000000000', '00000000000000000088249364b9c32600000000000000000000000000000000', '010000f093f5e14391a52c4ad198e2fb5c588181b64550b829a031e1724e6430', '010000f093f5e14391127b1fc17ea7215c588181b64550b829a031e1724e6430', '010000f093f5e14311d8795865225d3b5c588181b64550b829a031e1724e6430', '010000f093f5e14311ad76a6e5c9beda5b588181b64550b829a031e1724e6430', '010000f093f5e143918a6291047cc8335c588181b64550b829a031e1724e6430', '010000f093f5e14391e0189a71f99e885c588181b64550b829a031e1724e6430', '0000000000000000000000009f3c2c0000000000000000000000000000000000', '0000000000000000000000009f3c2c0000000000000000000000000000000000', '0000000000000000000000009f3c2c0000000000000000000000000000000000', '0000000000000000000000009f3c2c0000000000000000000000000000000000', '0000000000000000000000009f3c2c0000000000000000000000000000000000', '0000000000000000000000009f3c2c0000000000000000000000000000000000', '010000f093f5e143119fa6861e5711245d588181b64550b829a031e1724e6430', '010000f093f5e143416c716cd977f0035d588181b64550b829a031e1724e6430', '010000f093f5e143d14d75b2af6663c45c588181b64550b829a031e1724e6430', '010000f093f5e14311f8ab12b734c14f5c588181b64550b829a031e1724e6430', '010000f093f5e143f1d14eb2582883455c588181b64550b829a031e1724e6430', '010000f093f5e143d1a3b9cba966ffaa5c588181b64550b829a031e1724e6430', '010000f093f5e1439130055d9416331e5d588181b64550b829a031e1724e6430', '0000000000000000000000009f3c2c0000000000000000000000000000000000', '0000000000000000000000009f3c2c0000000000000000000000000000000000', '0000000000000000000000009f3c2c0000000000000000000000000000000000', '0000000000000000000000009f3c2c0000000000000000000000000000000000', '0000000000000000000000009f3c2c0000000000000000000000000000000000', '0000000000000000000000009f3c2c0000000000000000000000000000000000', '00000000000000000074f60a4caee72300000000000000000000000000000000', '010000f093f5e1439188da9bbb561fbb5c588181b64550b829a031e1724e6430', '010000f093f5e14391ec1b12d320c3905c588181b64550b829a031e1724e6430', '010000f093f5e143313ef24ba92ca7d95c588181b64550b829a031e1724e6430', '010000f093f5e143f110a63382f57a715c588181b64550b829a031e1724e6430', '010000f093f5e14391b43e9626a0e8af5c588181b64550b829a031e1724e6430', '0000000000000000000000009f3c2c0000000000000000000000000000000000', '0000000000000000000000009f3c2c0000000000000000000000000000000000', '0000000000000000000000009f3c2c0000000000000000000000000000000000', '0000000000000000000000009f3c2c0000000000000000000000000000000000', '0000000000000000000000009f3c2c0000000000000000000000000000000000', '0000000000000000000000009f3c2c0000000000000000000000000000000000', '0000000000000000000000009f3c2c0000000000000000000000000000000000', '000000000000000000649e6b05432c1400000000000000000000000000000000', '010000f093f5e14391d03e7443c461b35c588181b64550b829a031e1724e6430', '010000f093f5e1439168cd0269e4bad05b588181b64550b829a031e1724e6430', '010000f093f5e1439147807abe2df5835c588181b64550b829a031e1724e6430', '010000f093f5e14391be0af724212d8b5c588181b64550b829a031e1724e6430', '010000f093f5e14391684afd7351020c5d588181b64550b829a031e1724e6430', '0000000000000000000000009f3c2c0000000000000000000000000000000000', '0000000000000000000000009f3c2c0000000000000000000000000000000000', '0000000000000000000000009f3c2c0000000000000000000000000000000000', '0000000000000000000000009f3c2c0000000000000000000000000000000000', '010000f093f5e14391c0a060652792265d588181b64550b829a031e1724e6430', '010000f093f5e1439108c7c5515404fc5c588181b64550b829a031e1724e6430', '010000f093f5e143910889319837289e5c588181b64550b829a031e1724e6430', '010000f093f5e1439110d5a2228c63725c588181b64550b829a031e1724e6430', '010000f093f5e143917411f0eb58c5205c588181b64550b829a031e1724e6430', '010000f093f5e1439132b7e33acadc2b5c588181b64550b829a031e1724e6430', '010000f093f5e1439174c130f253460c5c588181b64550b829a031e1724e6430', '010000f093f5e1439156425aec3b2c235d588181b64550b829a031e1724e6430', '0000000000000000000000009f3c2c0000000000000000000000000000000000', '0000000000000000000000009f3c2c0000000000000000000000000000000000', '010000f093f5e14391c0814dc5a605275d588181b64550b829a031e1724e6430', '010000f093f5e143910c584c270525f85c588181b64550b829a031e1724e6430', '010000f093f5e143916c3b3f1c2735b75c588181b64550b829a031e1724e6430', '010000f093f5e14391b46fe6f06d1e605c588181b64550b829a031e1724e6430', '010000f093f5e1439198642aa4096b555c588181b64550b829a031e1724e6430', '010000f093f5e143913e453a49990b915c588181b64550b829a031e1724e6430', '010000f093f5e14351b79efb8eb1127b5c588181b64550b829a031e1724e6430', '010000f093f5e1431114919c520831335c588181b64550b829a031e1724e6430', '010000f093f5e143f1a7a9a79c840d755c588181b64550b829a031e1724e6430', '010000f093f5e14391ecc7e32d2e81275d588181b64550b829a031e1724e6430', '0000000000000000000000009f3c2c0000000000000000000000000000000000', '010000f093f5e1439188c39ad5b1c1175d588181b64550b829a031e1724e6430', '010000f093f5e14391585217ed7edda75c588181b64550b829a031e1724e6430', '010000f093f5e143917aae2bb2e6157f5c588181b64550b829a031e1724e6430', '010000f093f5e14391ac4232454deb715c588181b64550b829a031e1724e6430', '010000f093f5e14391b3f011de316e835c588181b64550b829a031e1724e6430', '010000f093f5e143914b653bdc835c795c588181b64550b829a031e1724e6430', '010000f093f5e1439152def7d1c7432f5c588181b64550b829a031e1724e6430', '010000f093f5e143d10ba825cd9f3b395c588181b64550b829a031e1724e6430', '010000f093f5e14351217f494f3287855c588181b64550b829a031e1724e6430', '010000f093f5e14391f03ac7ad8e68065d588181b64550b829a031e1724e6430', '0000000000000000000000009f3c2c0000000000000000000000000000000000', '0000000000000000000000009f3c2c0000000000000000000000000000000000', '010000f093f5e1439114ec1895989c175d588181b64550b829a031e1724e6430', '000000000000000000002f0ae9c0e50300000000000000000000000000000000', '0000000000000000001b37338119042d00000000000000000000000000000000', '010000f093f5e14391107866ac53beef5c588181b64550b829a031e1724e6430', '010000f093f5e143913096c7b5d568635c588181b64550b829a031e1724e6430', '010000f093f5e143918ddfd98a2e9e335c588181b64550b829a031e1724e6430', '010000f093f5e143910f616158db95805c588181b64550b829a031e1724e6430', '010000f093f5e14391902a55035d64035d588181b64550b829a031e1724e6430', '0000000000000000000000009f3c2c0000000000000000000000000000000000', '0000000000000000000000009f3c2c0000000000000000000000000000000000', '0000000000000000000000009f3c2c0000000000000000000000000000000000', '0000000000000000000000009f3c2c0000000000000000000000000000000000']], 'proof': '0x129a6bf369b8b51069a3668591d4b94385ea4dab24fa8441fbbc47eb8371969a087b43b3323c8fed56ec03af6c4454954aafbc1a3dff54ecd156577049802a212a1a5c16b100c3831cc758b268d2bd81cfe0751ee98e08937f486df94a1344aa2d9bfd236f8e8232ef5aaf8e0d1fdefbe6cdcc198ac87803a9121c5f8c3a6344195e1298b9ef837ae13332b78b42147269843b16421ebc4e590c0e91b605c3941044bcf16e4bc83c5a1b8d04c1221e8498a84afc6300c1e62d230cbb7cf12a7e00b03012f1674700b2b50a0753d7c39d2fda2f44ea2c8ba9348394ba901ca1e506a5914cc12771060410c03448750469be024222d75b666d0c3e0b4c268b84b217b815a7b154cbf7027911335221ef6a8ac89b1147ee4fa0cffdbeecd62b28632fd5a7f10c8ead56b605b3e82d99c41806e4414938d09227fbb88a6786b834a52115485e253cfaa4da639bed3b32beb6fe21e710aa71d7bd30da2827745ee7001dc3b14879891df639355e866c4786ec2a79bdcf06d163f258d772db784130672494e64deb1d3ec174ea0928c67c64e878b40f7321f94f5780916cf1b1bebcae067ef88a79eb79f13005802d0a590c42a9621cbc0fe148b86802f5ee9c986621167db5c13623c4dcc9712e5e96dca71db36e186880d8a9adae6c1d33803f8d2122996de8def727dae9d5854d0a64856ebccd79e5e98dbe035f2ca65d7d7a957f1928bc519ad8f91be23fd19536c6bb765b40e30d9b8c233b9a423d05ced026b7000482a171cb23d394f60a5f3b4643b00461a00e57b935b042a0577fb4945d11065ac3ca6c8b1ebc5679cc00dfe57dc72150aed313e2de5e4e66aa90b85f88ab241b78f45738e321ed559101c65782e750c59f0e33a2dc0ecc820f557ef283ee2ea2ec9bb5495940e35c6c5427f58211b973c7773c4bfb07966b1f317841c8622d601a832ad62930606577bdf4df55d1ea363a679d05ea85c6035b793ed5f483143fa84ac49dd78f4fccd2c75d6335d3cf9ca04cf735797bf1d18711cb30684c1c19da4e514296286b0e5f447640c1a8194528c1a40e577a57d7715bba57cce1054dd1af1b6a54c21c805898fced3d6e5b7910486009a70e7ec95419dc6d940419060c6e9bf767f2cbab39fd53169cbf9d03c717d26da3ad33a04b105f23f83b0156213332db1ff4e0e092cfd9908ba373743eae8385335154bd75337433954923dd0241fe68e913ad22187a1613902fb5e98f64cdfda7475205539f1daa263821f76644cd8adc9548988881c801017dffc53448d720fc1232458d73251fdeae2bdd52ab83193d5c668f3e618ea48af37ea6ca341e8b1ae0c6125f37e105a7ec150cbf4b6d15fe48f0fa8ef96193a250fae64f56cb9458d7526820df4f071e2602c5e23908047eb39b5044f6cd2d7b57bb7d9b9fc4ae73ea656f9017d947618c05a424331c9bf8a2e60708142401822c320faea859d5c5f97ea281a75ea8bf2c2fe0a675adbb5cd77258243ddcb4f3402daf375f2f5e762fd3ede1f0a6d40de7045502cae97861b61e4907d09044b3ed96914353e18792522c7468f11a2283e3024f6ccc402ceb630a6e1beab23ee58b72d406de7fe5a95fb35445cd8f9128ff1b5e8babb84d5e0fa30ddbefc7d70759fc8c3a8e4e2fae888bc03d675fb2ca921fd93fe210753fb16b7de3c8e909e8d52d1f6c9d956cc91a1a3efa8687d6700d2ee927d5a893ad56afca84fcadd5a1926a017914ef0dd04f506e7410b60ca1200b3ee474ec49d0786bd601b735c0c4dd332a28c68bcbfc5212fa209598e54a502bae181d698eed9a7d4f260c5c692679b99b6b45e80f8445f43c8534398771f900000000000000000000000000000000000000000000000000000000000000001966f6e7f2dff87433c51d8d0b548cb0eabcb4dc89025d675ebb3ee7294733682e8a49ede8a8b2ceba2152ebb2accb043936aad9831e2b3334392c8b4db5db0408f877876b285d57cf174d295bf04fd0584253ab314134036b1ee9421ccef38e06c3ecc406429568daaa603d6ac80e313267bbd19e02c83ba6c7a9006d81032a13a28e5f92733ada60f9383f0bb491ede1d0f5c372495ac79d8582772b77458e015906d1545f0648e25a2776f7dacb76cc5ba972dc85959255af5d5efb3578cf0593afd6b7fbd0549de0bedcfcbc03ea937d93589bfd5bc95f1fe133b501219f06ecf9a3f97014aabccdaefa349079a6a0f541d9809c08f438ce942744888a3d27bca677b23f28aeece8f9cf11d684eb310710cb9ec1c1b24b733e901428d1062bfdc3b07c500d85a6da88505453892c40e12c6d50bf097520bbe587dd3cd875084f345ad6b8a8fad9f628517d597a4adefb4c013e303f2ff592579be21726c61ca291181ac4a6ee7ae3317857ad10e42d9d5c0e78cd382a9108f27d1023bf681a443f1e60bba1e822d4abb1969942ba823023f7ee8577f25e1e7f720ba7ab8f12114c7461a7fc63c908b1356cbcba72848d3b5eb344fe18630d78ad63f98aab0b79ea9b11f3f945c037704d61a0a1adeae69dcbc460e9638d993edd4eb4b00e1a8cd9869173a9421c5a3aee2a6dcbe9b9e1634a5a7b877d089e5549129b85a5051f267cc93f4b2ce50d570f43c9cfd39046fcd0873e321117fc21a4fa4afe310e3ec352b54c9a2c4dbb847e1c406911710fe48aefb6416e33b9b5194035628c1d9515429dba113fd2a2258bdfe30b413d82addd95099467f9c224367530b98f22b3a35d93f637c7273f97174c5cffd92c2b57a504855e47a76168874146c0a50f14b540503d6a9dd71f2677b5f1e10a3c798a2d16f3941fae2f380be518e9e41dd7e12313d1d31c1f575c82b301b4e73ca30f1978b06d59521be862d5d7d139074f2b7a9fb2b60e7bca01d599b4d9c5d5ae3a2b21d6231ec47ecfa3e3455d960e85eed36e8fa72c0efd74ca3d52902c1fad21edaa3e85c371c0a238bc34119905494c15e7505fb8c25d6ae71e9190d778c5118b2b66d3264f6fbf47109b7292', 'transcript_type': 'EVM'}\n",
            "Elapsed time: 28.647846 seconds\n"
          ]
        }
      ],
      "source": [
        "# GENERATE A PROOF\n",
        "\n",
        "# Start time\n",
        "start_proving_time = time.time()\n",
        "\n",
        "proof_path = os.path.join('generating_files/proof.pf')\n",
        "\n",
        "res = ezkl.prove(\n",
        "        witness_path,\n",
        "        compiled_model_path,\n",
        "        pk_path,\n",
        "        proof_path,\n",
        "\n",
        "        \"single\",\n",
        "    )\n",
        "\n",
        "print(res)\n",
        "assert os.path.isfile(proof_path)\n",
        "\n",
        "\n",
        "# End time\n",
        "end_proving_time = time.time()\n",
        "\n",
        "# Calculate elapsed time\n",
        "elapsed_proving_time = end_proving_time - start_proving_time\n",
        "print(f\"Elapsed time: {elapsed_time:.6f} seconds\")"
      ]
    },
    {
      "cell_type": "markdown",
      "id": "BequUUUJevHA",
      "metadata": {
        "id": "BequUUUJevHA"
      },
      "source": [
        "# 7. Verification Phase"
      ]
    },
    {
      "cell_type": "code",
      "execution_count": null,
      "id": "FLEruRp1ewe1",
      "metadata": {
        "id": "FLEruRp1ewe1",
        "colab": {
          "base_uri": "https://localhost:8080/"
        },
        "outputId": "600376c6-a327-4cb1-b40b-bc338b355c02"
      },
      "outputs": [
        {
          "output_type": "stream",
          "name": "stdout",
          "text": [
            "verified\n",
            "Elapsed time: 0.146013 seconds\n"
          ]
        }
      ],
      "source": [
        "# Start time\n",
        "start_verify_time = time.time()\n",
        "\n",
        "# VERIFY IT\n",
        "\n",
        "res = ezkl.verify(\n",
        "        proof_path,\n",
        "        settings_path,\n",
        "        vk_path,\n",
        "    )\n",
        "\n",
        "assert res == True\n",
        "print(\"verified\")\n",
        "\n",
        "\n",
        "# End time\n",
        "end_verify_time = time.time()\n",
        "\n",
        "# Calculate elapsed time\n",
        "elapsed_verify_time = end_verify_time - start_verify_time\n",
        "print(f\"Elapsed time: {elapsed_verify_time:.6f} seconds\")"
      ]
    },
    {
      "cell_type": "markdown",
      "id": "3hzNVxGTEaVb",
      "metadata": {
        "id": "3hzNVxGTEaVb"
      },
      "source": [
        "# 8. Extract Data from Proof & Continue Training:"
      ]
    },
    {
      "cell_type": "markdown",
      "source": [
        "In this step, we will \"translate\" from each value in \"instances\" column of proof to float value - corresponding with 292 elements (4 commit values + 288 values of result)\n"
      ],
      "metadata": {
        "id": "Zx_BGp5Xa8ZV"
      },
      "id": "Zx_BGp5Xa8ZV"
    },
    {
      "cell_type": "markdown",
      "source": [
        "![Proof-Instances](https://raw.githubusercontent.com/BaoNinh2808/cm24-projects/refs/heads/main/AI%20Training%20Data%20Selling%20with%20Privacy%20Protection%20(for%20client)/images/proof.png)"
      ],
      "metadata": {
        "id": "YStZGLMbduHj"
      },
      "id": "YStZGLMbduHj"
    },
    {
      "cell_type": "markdown",
      "source": [
        "We will use api felt_to_float to 'translate'"
      ],
      "metadata": {
        "id": "ojpIzxw4bSSc"
      },
      "id": "ojpIzxw4bSSc"
    },
    {
      "cell_type": "code",
      "execution_count": null,
      "id": "tBeY2X26u15q",
      "metadata": {
        "colab": {
          "base_uri": "https://localhost:8080/"
        },
        "id": "tBeY2X26u15q",
        "outputId": "8eb365be-f61f-4962-f7db-98e96cb8a8e5"
      },
      "outputs": [
        {
          "output_type": "stream",
          "name": "stdout",
          "text": [
            "-0.38104580735147514\n"
          ]
        }
      ],
      "source": [
        "# mean of commit-convolutional layer of the 1st part (top-left) of the image\n",
        "print(ezkl.felt_to_float('010000f0d3764defc60b2a4354dad00f5d588181b64550b829a031e1724e6430', 126))\n",
        "# the result will be -0.38104580735147514"
      ]
    },
    {
      "cell_type": "markdown",
      "source": [
        "The output will equal to rescale output that have pre-calculate in the proof\n",
        "\n",
        "But in real life, Model Owner must 'translate' the output from the proof again, don't rely on the value that Prover (Data Owner) have calculated and write in the proof, because Prover can cheat at this point.\n",
        "\n",
        "![Rescale-Output](https://raw.githubusercontent.com/BaoNinh2808/cm24-projects/refs/heads/main/AI%20Training%20Data%20Selling%20with%20Privacy%20Protection%20(for%20client)/images/rescaled_outputs.png)"
      ],
      "metadata": {
        "id": "i_2wSdtscoes"
      },
      "id": "i_2wSdtscoes"
    },
    {
      "cell_type": "code",
      "source": [
        "# extract result from proof ....\n",
        "# ...\n",
        "# continue training ...."
      ],
      "metadata": {
        "id": "5aG4TFrjYcQs"
      },
      "id": "5aG4TFrjYcQs",
      "execution_count": null,
      "outputs": []
    }
  ],
  "metadata": {
    "colab": {
      "provenance": []
    },
    "kernelspec": {
      "display_name": "Python 3 (ipykernel)",
      "language": "python",
      "name": "python3"
    },
    "language_info": {
      "codemirror_mode": {
        "name": "ipython",
        "version": 3
      },
      "file_extension": ".py",
      "mimetype": "text/x-python",
      "name": "python",
      "nbconvert_exporter": "python",
      "pygments_lexer": "ipython3",
      "version": "3.9.15"
    }
  },
  "nbformat": 4,
  "nbformat_minor": 5
}