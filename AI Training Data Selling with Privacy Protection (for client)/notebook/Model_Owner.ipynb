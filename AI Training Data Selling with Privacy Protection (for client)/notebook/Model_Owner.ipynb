{
  "cells": [
    {
      "cell_type": "markdown",
      "id": "Pch48E7FaCB3",
      "metadata": {
        "id": "Pch48E7FaCB3"
      },
      "source": [
        "# 1. Import Libraries & Define Paths"
      ]
    },
    {
      "cell_type": "code",
      "execution_count": 1,
      "id": "xrnAQKtiaGn2",
      "metadata": {
        "id": "xrnAQKtiaGn2"
      },
      "outputs": [],
      "source": [
        "# check if notebook is in colab\n",
        "try:\n",
        "    # install ezkl\n",
        "    import google.colab\n",
        "    import subprocess\n",
        "    import sys\n",
        "    subprocess.check_call([sys.executable, \"-m\", \"pip\", \"install\", \"ezkl\"])\n",
        "    subprocess.check_call([sys.executable, \"-m\", \"pip\", \"install\", \"onnx\"])\n",
        "\n",
        "# rely on local installation of ezkl if the notebook is not in colab\n",
        "except:\n",
        "    pass\n",
        "\n",
        "\n",
        "# here we create and (potentially train a model)\n",
        "\n",
        "# make sure you have the dependencies required here already installed\n",
        "from torch import nn\n",
        "import ezkl\n",
        "import os\n",
        "import json\n",
        "import torch\n",
        "from PIL import Image"
      ]
    },
    {
      "cell_type": "code",
      "source": [
        "!mkdir generating_files"
      ],
      "metadata": {
        "id": "2rmuchUxS1Rv"
      },
      "id": "2rmuchUxS1Rv",
      "execution_count": 2,
      "outputs": []
    },
    {
      "cell_type": "code",
      "source": [
        "model_path = os.path.join('generating_files/network.onnx')\n",
        "compiled_model_path = os.path.join('generating_files/network.compiled')\n",
        "pk_path = os.path.join('generating_files/proving_key.pk')\n",
        "vk_path = os.path.join('generating_files/verification_key.vk')\n",
        "settings_path = os.path.join('generating_files/settings.json')\n",
        "\n",
        "witness_path = os.path.join('generating_files/witness.json')\n",
        "data_path = os.path.join('generating_files/input.json')"
      ],
      "metadata": {
        "id": "NU5O_mlAS2Pa"
      },
      "id": "NU5O_mlAS2Pa",
      "execution_count": 3,
      "outputs": []
    },
    {
      "cell_type": "code",
      "source": [
        "# function divide image into 4 parts\n",
        "def divide_image_to_4_parts(x, w, h):\n",
        "    # Create a copy of x without gradients\n",
        "    x_copy = x.detach().clone()\n",
        "\n",
        "    # Compute midpoints\n",
        "    mid_w, mid_h = w // 2, h // 2\n",
        "\n",
        "    # Divide into four parts\n",
        "    top_left = x_copy[:, :, :mid_w, :mid_h]\n",
        "    top_right = x_copy[:, :, :mid_w, mid_h:]\n",
        "    bottom_left = x_copy[:, :, mid_w:, :mid_h]\n",
        "    bottom_right = x_copy[:, :, mid_w:, mid_h:]\n",
        "\n",
        "    return top_left, top_right, bottom_left, bottom_right"
      ],
      "metadata": {
        "id": "xCPxQSDJUjew"
      },
      "id": "xCPxQSDJUjew",
      "execution_count": 4,
      "outputs": []
    },
    {
      "cell_type": "markdown",
      "source": [
        "# 2. Create Merkle Tree"
      ],
      "metadata": {
        "id": "_uDJ3cjOS8q6"
      },
      "id": "_uDJ3cjOS8q6"
    },
    {
      "cell_type": "markdown",
      "source": [
        "## Two parties jointly create random seed for pseudo number generator"
      ],
      "metadata": {
        "id": "Wxp0P-B8Vm9Q"
      },
      "id": "Wxp0P-B8Vm9Q"
    },
    {
      "cell_type": "code",
      "source": [
        "# (Model Owner do) Model Owner generate a random\n",
        "import random\n",
        "\n",
        "random_model_owner = random.randint(1000, 100000000)\n",
        "print(random_model_owner)"
      ],
      "metadata": {
        "id": "rCyA7kE8TAnd",
        "colab": {
          "base_uri": "https://localhost:8080/"
        },
        "outputId": "53a9788f-01a8-4c70-bf4f-ed7bb892ff46"
      },
      "id": "rCyA7kE8TAnd",
      "execution_count": 7,
      "outputs": [
        {
          "output_type": "stream",
          "name": "stdout",
          "text": [
            "68671620\n"
          ]
        }
      ]
    },
    {
      "cell_type": "code",
      "source": [
        "# (Data Owner do) Data Owner generate a random\n",
        "random_data_owner = 79696078         # get the random of data owner and replace here"
      ],
      "metadata": {
        "id": "FLfgMdO7TGnR"
      },
      "id": "FLfgMdO7TGnR",
      "execution_count": 6,
      "outputs": []
    },
    {
      "cell_type": "code",
      "source": [
        "# (Both do) Set seed for random generator\n",
        "torch.manual_seed(random_model_owner + random_data_owner)"
      ],
      "metadata": {
        "colab": {
          "base_uri": "https://localhost:8080/"
        },
        "id": "zpOiULo7Tel7",
        "outputId": "e8a1d9d9-4a1e-48e3-c25a-be5b9799d345"
      },
      "id": "zpOiULo7Tel7",
      "execution_count": 8,
      "outputs": [
        {
          "output_type": "execute_result",
          "data": {
            "text/plain": [
              "<torch._C.Generator at 0x78319a42cf50>"
            ]
          },
          "metadata": {},
          "execution_count": 8
        }
      ]
    },
    {
      "cell_type": "markdown",
      "source": [
        "## Two parties create commit convolutional layer (with weight and bias generate by pseudo number generator)"
      ],
      "metadata": {
        "id": "21MUNht-V-CG"
      },
      "id": "21MUNht-V-CG"
    },
    {
      "cell_type": "code",
      "source": [
        "# (Both do) Define the commit-convolutional layer (it can anything, here we chose a conv2d with 2 filter and ker-size=5, stride=2)\n",
        "\n",
        "commit_conv = nn.Conv2d(in_channels=1, out_channels=2, kernel_size=5, stride=2)\n",
        "\n",
        "# Initialize custom weights and bias\n",
        "commit_conv.weight = nn.Parameter(torch.randn(2, 1, 5, 5))  # Shape must match (out_channels, in_channels, kernel_size, kernel_size)\n",
        "commit_conv.bias = nn.Parameter(torch.randn(2))  # Shape must match the out_channels"
      ],
      "metadata": {
        "id": "kC-Q-csyTqyb"
      },
      "id": "kC-Q-csyTqyb",
      "execution_count": 9,
      "outputs": []
    },
    {
      "cell_type": "markdown",
      "source": [
        "## Data Owner process image segment through commit convolutional layer"
      ],
      "metadata": {
        "id": "1_FtJwScWjT0"
      },
      "id": "1_FtJwScWjT0"
    },
    {
      "cell_type": "markdown",
      "source": [
        "Model Owner don't do this part"
      ],
      "metadata": {
        "id": "cB0t0NjDgrgF"
      },
      "id": "cB0t0NjDgrgF"
    },
    {
      "cell_type": "markdown",
      "source": [
        "# 3. Monte-Carlo Check"
      ],
      "metadata": {
        "id": "ZwRqwtGxXJke"
      },
      "id": "ZwRqwtGxXJke"
    },
    {
      "cell_type": "code",
      "source": [
        "# Example we get the top-left image from Data Owner, but here we demo by get the top-left part by directly from the original image\n",
        "# It just a demo\n",
        "\n",
        "# Input - use grayscale (28x28) image from MNIST dataset to demo\n",
        "# Input for model, use grayscale image from MNIST dataset\n",
        "from keras.datasets import mnist\n",
        "(train_X, train_y), (test_X, test_y) = mnist.load_data()\n",
        "train_X = torch.from_numpy(train_X) / 255.0\n",
        "train_X = train_X.unsqueeze(1)\n",
        "# print(train_X.shape)\n",
        "# print(train_X[0])\n",
        "input_image = train_X[0].unsqueeze(0)\n",
        "print(input_image.shape)\n",
        "top_left, _, _, _ = divide_image_to_4_parts(input_image, input_image.shape[2], input_image.shape[3])"
      ],
      "metadata": {
        "colab": {
          "base_uri": "https://localhost:8080/"
        },
        "id": "MxNlkvLkh83S",
        "outputId": "0b7f6d79-8ad9-4886-e36b-c57f409e7505"
      },
      "id": "MxNlkvLkh83S",
      "execution_count": 10,
      "outputs": [
        {
          "output_type": "stream",
          "name": "stdout",
          "text": [
            "Downloading data from https://storage.googleapis.com/tensorflow/tf-keras-datasets/mnist.npz\n",
            "\u001b[1m11490434/11490434\u001b[0m \u001b[32m━━━━━━━━━━━━━━━━━━━━\u001b[0m\u001b[37m\u001b[0m \u001b[1m0s\u001b[0m 0us/step\n",
            "torch.Size([1, 1, 28, 28])\n"
          ]
        }
      ]
    },
    {
      "cell_type": "code",
      "source": [
        "# (Data Owner do) Send the mean conv result of each part to Model Owner\n",
        "# (Model Owner do) Model Owner send query to Model Owner and get the result, then do the above process again and compare\n",
        "\n",
        "# ex: check 1st (top-left) of image\n",
        "\n",
        "validate_value = torch.mean(commit_conv(top_left)).unsqueeze(0)\n",
        "\n",
        "mean_tl = -0.3358482718 # Copy the value print in Data-Owner and paste to here\n",
        "\n",
        "tolerance = 1e-9\n",
        "\n",
        "assert(abs(validate_value - mean_tl) < tolerance)\n",
        "\n",
        "print(\"Monte-Carlo check pass ==> Agree on dataset\")"
      ],
      "metadata": {
        "colab": {
          "base_uri": "https://localhost:8080/"
        },
        "id": "l65X7-LZU57W",
        "outputId": "b05b6362-5045-42c5-cde2-b65ecd4260ff"
      },
      "id": "l65X7-LZU57W",
      "execution_count": 24,
      "outputs": [
        {
          "output_type": "stream",
          "name": "stdout",
          "text": [
            "Monte-Carlo check pass ==> Agree on dataset\n"
          ]
        }
      ]
    },
    {
      "cell_type": "markdown",
      "id": "s9bbePJiaKaT",
      "metadata": {
        "id": "s9bbePJiaKaT"
      },
      "source": [
        "# 4. Define Circuit Structure & Generate ONNX File"
      ]
    },
    {
      "cell_type": "code",
      "source": [
        "# Manually create the tensor with the given values\n",
        "weights = torch.tensor([[[[ 0.4051, -1.0027, -0.6679,  0.5655, -0.1901],\n",
        "                         [-0.5042, -1.8444,  1.0797, -1.7020,  0.8695],\n",
        "                         [-1.1467, -0.4110,  2.3773, -0.2481, -1.2287],\n",
        "                         [-1.0960, -0.8917, -0.6548,  1.5678, -0.9284],\n",
        "                         [-1.2372, -1.4590,  0.5970, -0.9647,  3.1039]]],\n",
        "\n",
        "                       [[[-1.7351, -0.9498,  0.0699, -1.2860,  0.8400],\n",
        "                         [-0.3068,  0.2217, -0.3690, -0.1901, -0.0881],\n",
        "                         [-0.5473,  1.0560,  0.5286,  0.4584, -0.4555],\n",
        "                         [-1.7153,  0.0264,  0.2541, -0.1590, -0.4631],\n",
        "                         [-1.6218,  1.0727, -1.2665, -0.5445, -0.2996]]]])\n",
        "\n",
        "\n",
        "bias = torch.tensor([-0.7043, 0.0027])"
      ],
      "metadata": {
        "id": "HD90QPoHj1sg"
      },
      "id": "HD90QPoHj1sg",
      "execution_count": 27,
      "outputs": []
    },
    {
      "cell_type": "code",
      "execution_count": 29,
      "id": "RS03gSkkaNfH",
      "metadata": {
        "id": "RS03gSkkaNfH"
      },
      "outputs": [],
      "source": [
        "# Define a model\n",
        "# In this example we define a convolutional layer with 2 filters, kernel-size = 5 and slide 2 step for each stride\n",
        "class MyModel(nn.Module):\n",
        "    def __init__(self):\n",
        "        super(MyModel, self).__init__()\n",
        "\n",
        "        self.conv = nn.Conv2d(in_channels=1, out_channels=2, kernel_size=5, stride=2)\n",
        "        self.conv.weight = nn.Parameter(weights)\n",
        "        self.conv.bias = nn.Parameter(bias)\n",
        "\n",
        "        self.commit_conv = commit_conv\n",
        "\n",
        "    def forward(self, x):\n",
        "        top_left, top_right, bottom_left, bottom_right = divide_image_to_4_parts(x, x.shape[2], x.shape[3])\n",
        "\n",
        "        # mean conv result of each part\n",
        "        mean_tl = torch.mean(self.commit_conv(top_left)).unsqueeze(0)\n",
        "        mean_tr = torch.mean(self.commit_conv(top_right)).unsqueeze(0)\n",
        "        mean_bl = torch.mean(self.commit_conv(bottom_left)).unsqueeze(0)\n",
        "        mean_br = torch.mean(self.commit_conv(bottom_right)).unsqueeze(0)\n",
        "\n",
        "\n",
        "        # Pass through convolution layer and flatten the result\n",
        "        res = self.conv(x).flatten()\n",
        "\n",
        "        # Concatenate sum tensor with flattened convolution output\n",
        "        final = torch.cat((mean_tl, mean_tr, mean_bl, mean_br, res), dim=0)\n",
        "\n",
        "        return final\n",
        "\n",
        "\n",
        "circuit = MyModel()"
      ]
    },
    {
      "cell_type": "code",
      "execution_count": 30,
      "id": "yJPpx3HAbApS",
      "metadata": {
        "id": "yJPpx3HAbApS"
      },
      "outputs": [],
      "source": [
        "# create a dummy data use for export onnx model (because export require run the model to trace)\n",
        "x = torch.rand(1, 1, 28, 28)"
      ]
    },
    {
      "cell_type": "code",
      "execution_count": 31,
      "id": "fWxxCXBZaePq",
      "metadata": {
        "id": "fWxxCXBZaePq",
        "colab": {
          "base_uri": "https://localhost:8080/"
        },
        "outputId": "eef3ec1b-c663-4756-afa2-d322fcd47ccd"
      },
      "outputs": [
        {
          "output_type": "stream",
          "name": "stdout",
          "text": [
            "torch.Size([292])\n"
          ]
        }
      ],
      "source": [
        "# Flips the neural net into inference mode\n",
        "circuit.eval()\n",
        "\n",
        "print(circuit(x).shape)\n",
        "\n",
        "# Export the model\n",
        "torch.onnx.export(circuit,               # model being run\n",
        "                      x,                   # model input (or a tuple for multiple inputs)\n",
        "                      model_path,            # where to save the model (can be a file or file-like object)\n",
        "                      export_params=True,        # store the trained parameter weights inside the model file\n",
        "                      opset_version=18,          # the ONNX version to export the model to\n",
        "                      do_constant_folding=False,  # whether to execute constant folding for optimization\n",
        "                      input_names = ['input'],   # the model's input names\n",
        "                      output_names = ['output'], # the model's output names\n",
        "                      dynamic_axes={'input' : {0 : 'batch_size'},    # variable length axes\n",
        "                                    'output' : {0 : 'batch_size'}})\n"
      ]
    },
    {
      "cell_type": "code",
      "execution_count": 32,
      "id": "LMl2AzqGbuvo",
      "metadata": {
        "colab": {
          "base_uri": "https://localhost:8080/"
        },
        "id": "LMl2AzqGbuvo",
        "outputId": "e8b892fd-25f1-4ec7-9cd9-9a2147e4bfa2"
      },
      "outputs": [
        {
          "output_type": "stream",
          "name": "stdout",
          "text": [
            "graph main_graph (\n",
            "  %input[FLOAT, batch_sizex1x28x28]\n",
            ") initializers (\n",
            "  %conv.weight[FLOAT, 2x1x5x5]\n",
            "  %conv.bias[FLOAT, 2]\n",
            "  %commit_conv.weight[FLOAT, 2x1x5x5]\n",
            "  %commit_conv.bias[FLOAT, 2]\n",
            ") {\n",
            "  %/Constant_output_0 = Constant[value = <Scalar Tensor []>]()\n",
            "  %/Shape_output_0 = Shape(%input)\n",
            "  %/Constant_1_output_0 = Constant[value = <Scalar Tensor []>]()\n",
            "  %/Gather_output_0 = Gather[axis = 0](%/Shape_output_0, %/Constant_1_output_0)\n",
            "  %/Constant_2_output_0 = Constant[value = <Scalar Tensor []>]()\n",
            "  %/Shape_1_output_0 = Shape(%input)\n",
            "  %/Constant_3_output_0 = Constant[value = <Scalar Tensor []>]()\n",
            "  %/Gather_1_output_0 = Gather[axis = 0](%/Shape_1_output_0, %/Constant_3_output_0)\n",
            "  %/Constant_4_output_0 = Constant[value = <Scalar Tensor []>]()\n",
            "  %/Div_output_0 = Div(%/Gather_output_0, %/Constant_4_output_0)\n",
            "  %/Cast_output_0 = Cast[to = 7](%/Div_output_0)\n",
            "  %/Cast_1_output_0 = Cast[to = 7](%/Cast_output_0)\n",
            "  %/Constant_5_output_0 = Constant[value = <Scalar Tensor []>]()\n",
            "  %/Div_1_output_0 = Div(%/Gather_1_output_0, %/Constant_5_output_0)\n",
            "  %/Cast_2_output_0 = Cast[to = 7](%/Div_1_output_0)\n",
            "  %/Cast_3_output_0 = Cast[to = 7](%/Cast_2_output_0)\n",
            "  %/Constant_6_output_0 = Constant[value = <Scalar Tensor []>]()\n",
            "  %/Constant_7_output_0 = Constant[value = <Scalar Tensor []>]()\n",
            "  %/Constant_8_output_0 = Constant[value = <Scalar Tensor []>]()\n",
            "  %/Constant_9_output_0 = Constant[value = <Tensor>]()\n",
            "  %/Unsqueeze_output_0 = Unsqueeze(%/Constant_output_0, %/Constant_9_output_0)\n",
            "  %/Constant_10_output_0 = Constant[value = <Tensor>]()\n",
            "  %/Unsqueeze_1_output_0 = Unsqueeze(%/Constant_6_output_0, %/Constant_10_output_0)\n",
            "  %/Constant_11_output_0 = Constant[value = <Tensor>]()\n",
            "  %/Unsqueeze_2_output_0 = Unsqueeze(%/Cast_1_output_0, %/Constant_11_output_0)\n",
            "  %/Constant_12_output_0 = Constant[value = <Tensor>]()\n",
            "  %/Unsqueeze_3_output_0 = Unsqueeze(%/Constant_8_output_0, %/Constant_12_output_0)\n",
            "  %/Slice_output_0 = Slice(%input, %/Unsqueeze_1_output_0, %/Unsqueeze_2_output_0, %/Unsqueeze_output_0, %/Unsqueeze_3_output_0)\n",
            "  %/Constant_13_output_0 = Constant[value = <Tensor>]()\n",
            "  %/Unsqueeze_4_output_0 = Unsqueeze(%/Constant_2_output_0, %/Constant_13_output_0)\n",
            "  %/Constant_14_output_0 = Constant[value = <Tensor>]()\n",
            "  %/Unsqueeze_5_output_0 = Unsqueeze(%/Constant_6_output_0, %/Constant_14_output_0)\n",
            "  %/Constant_15_output_0 = Constant[value = <Tensor>]()\n",
            "  %/Unsqueeze_6_output_0 = Unsqueeze(%/Cast_3_output_0, %/Constant_15_output_0)\n",
            "  %/Constant_16_output_0 = Constant[value = <Tensor>]()\n",
            "  %/Unsqueeze_7_output_0 = Unsqueeze(%/Constant_8_output_0, %/Constant_16_output_0)\n",
            "  %/Slice_1_output_0 = Slice(%/Slice_output_0, %/Unsqueeze_5_output_0, %/Unsqueeze_6_output_0, %/Unsqueeze_4_output_0, %/Unsqueeze_7_output_0)\n",
            "  %/Constant_17_output_0 = Constant[value = <Tensor>]()\n",
            "  %/Unsqueeze_8_output_0 = Unsqueeze(%/Constant_2_output_0, %/Constant_17_output_0)\n",
            "  %/Constant_18_output_0 = Constant[value = <Tensor>]()\n",
            "  %/Unsqueeze_9_output_0 = Unsqueeze(%/Cast_3_output_0, %/Constant_18_output_0)\n",
            "  %/Constant_19_output_0 = Constant[value = <Tensor>]()\n",
            "  %/Unsqueeze_10_output_0 = Unsqueeze(%/Constant_7_output_0, %/Constant_19_output_0)\n",
            "  %/Constant_20_output_0 = Constant[value = <Tensor>]()\n",
            "  %/Unsqueeze_11_output_0 = Unsqueeze(%/Constant_8_output_0, %/Constant_20_output_0)\n",
            "  %/Slice_2_output_0 = Slice(%/Slice_output_0, %/Unsqueeze_9_output_0, %/Unsqueeze_10_output_0, %/Unsqueeze_8_output_0, %/Unsqueeze_11_output_0)\n",
            "  %/Constant_21_output_0 = Constant[value = <Tensor>]()\n",
            "  %/Unsqueeze_12_output_0 = Unsqueeze(%/Constant_output_0, %/Constant_21_output_0)\n",
            "  %/Constant_22_output_0 = Constant[value = <Tensor>]()\n",
            "  %/Unsqueeze_13_output_0 = Unsqueeze(%/Cast_1_output_0, %/Constant_22_output_0)\n",
            "  %/Constant_23_output_0 = Constant[value = <Tensor>]()\n",
            "  %/Unsqueeze_14_output_0 = Unsqueeze(%/Constant_7_output_0, %/Constant_23_output_0)\n",
            "  %/Constant_24_output_0 = Constant[value = <Tensor>]()\n",
            "  %/Unsqueeze_15_output_0 = Unsqueeze(%/Constant_8_output_0, %/Constant_24_output_0)\n",
            "  %/Slice_3_output_0 = Slice(%input, %/Unsqueeze_13_output_0, %/Unsqueeze_14_output_0, %/Unsqueeze_12_output_0, %/Unsqueeze_15_output_0)\n",
            "  %/Constant_25_output_0 = Constant[value = <Tensor>]()\n",
            "  %/Unsqueeze_16_output_0 = Unsqueeze(%/Constant_2_output_0, %/Constant_25_output_0)\n",
            "  %/Constant_26_output_0 = Constant[value = <Tensor>]()\n",
            "  %/Unsqueeze_17_output_0 = Unsqueeze(%/Constant_6_output_0, %/Constant_26_output_0)\n",
            "  %/Constant_27_output_0 = Constant[value = <Tensor>]()\n",
            "  %/Unsqueeze_18_output_0 = Unsqueeze(%/Cast_3_output_0, %/Constant_27_output_0)\n",
            "  %/Constant_28_output_0 = Constant[value = <Tensor>]()\n",
            "  %/Unsqueeze_19_output_0 = Unsqueeze(%/Constant_8_output_0, %/Constant_28_output_0)\n",
            "  %/Slice_4_output_0 = Slice(%/Slice_3_output_0, %/Unsqueeze_17_output_0, %/Unsqueeze_18_output_0, %/Unsqueeze_16_output_0, %/Unsqueeze_19_output_0)\n",
            "  %/Constant_29_output_0 = Constant[value = <Tensor>]()\n",
            "  %/Unsqueeze_20_output_0 = Unsqueeze(%/Constant_2_output_0, %/Constant_29_output_0)\n",
            "  %/Constant_30_output_0 = Constant[value = <Tensor>]()\n",
            "  %/Unsqueeze_21_output_0 = Unsqueeze(%/Cast_3_output_0, %/Constant_30_output_0)\n",
            "  %/Constant_31_output_0 = Constant[value = <Tensor>]()\n",
            "  %/Unsqueeze_22_output_0 = Unsqueeze(%/Constant_7_output_0, %/Constant_31_output_0)\n",
            "  %/Constant_32_output_0 = Constant[value = <Tensor>]()\n",
            "  %/Unsqueeze_23_output_0 = Unsqueeze(%/Constant_8_output_0, %/Constant_32_output_0)\n",
            "  %/Slice_5_output_0 = Slice(%/Slice_3_output_0, %/Unsqueeze_21_output_0, %/Unsqueeze_22_output_0, %/Unsqueeze_20_output_0, %/Unsqueeze_23_output_0)\n",
            "  %/commit_conv/Conv_output_0 = Conv[dilations = [1, 1], group = 1, kernel_shape = [5, 5], pads = [0, 0, 0, 0], strides = [2, 2]](%/Slice_1_output_0, %commit_conv.weight, %commit_conv.bias)\n",
            "  %/ReduceMean_output_0 = ReduceMean[keepdims = 0](%/commit_conv/Conv_output_0)\n",
            "  %/Constant_33_output_0 = Constant[value = <Tensor>]()\n",
            "  %/Unsqueeze_24_output_0 = Unsqueeze(%/ReduceMean_output_0, %/Constant_33_output_0)\n",
            "  %/commit_conv_1/Conv_output_0 = Conv[dilations = [1, 1], group = 1, kernel_shape = [5, 5], pads = [0, 0, 0, 0], strides = [2, 2]](%/Slice_2_output_0, %commit_conv.weight, %commit_conv.bias)\n",
            "  %/ReduceMean_1_output_0 = ReduceMean[keepdims = 0](%/commit_conv_1/Conv_output_0)\n",
            "  %/Constant_34_output_0 = Constant[value = <Tensor>]()\n",
            "  %/Unsqueeze_25_output_0 = Unsqueeze(%/ReduceMean_1_output_0, %/Constant_34_output_0)\n",
            "  %/commit_conv_2/Conv_output_0 = Conv[dilations = [1, 1], group = 1, kernel_shape = [5, 5], pads = [0, 0, 0, 0], strides = [2, 2]](%/Slice_4_output_0, %commit_conv.weight, %commit_conv.bias)\n",
            "  %/ReduceMean_2_output_0 = ReduceMean[keepdims = 0](%/commit_conv_2/Conv_output_0)\n",
            "  %/Constant_35_output_0 = Constant[value = <Tensor>]()\n",
            "  %/Unsqueeze_26_output_0 = Unsqueeze(%/ReduceMean_2_output_0, %/Constant_35_output_0)\n",
            "  %/commit_conv_3/Conv_output_0 = Conv[dilations = [1, 1], group = 1, kernel_shape = [5, 5], pads = [0, 0, 0, 0], strides = [2, 2]](%/Slice_5_output_0, %commit_conv.weight, %commit_conv.bias)\n",
            "  %/ReduceMean_3_output_0 = ReduceMean[keepdims = 0](%/commit_conv_3/Conv_output_0)\n",
            "  %/Constant_36_output_0 = Constant[value = <Tensor>]()\n",
            "  %/Unsqueeze_27_output_0 = Unsqueeze(%/ReduceMean_3_output_0, %/Constant_36_output_0)\n",
            "  %/conv/Conv_output_0 = Conv[dilations = [1, 1], group = 1, kernel_shape = [5, 5], pads = [0, 0, 0, 0], strides = [2, 2]](%input, %conv.weight, %conv.bias)\n",
            "  %/Shape_2_output_0 = Shape(%/conv/Conv_output_0)\n",
            "  %/Constant_37_output_0 = Constant[value = <Tensor>]()\n",
            "  %/Constant_38_output_0 = Constant[value = <Tensor>]()\n",
            "  %/Constant_39_output_0 = Constant[value = <Tensor>]()\n",
            "  %/Slice_6_output_0 = Slice(%/Shape_2_output_0, %/Constant_38_output_0, %/Constant_39_output_0, %/Constant_37_output_0)\n",
            "  %/Constant_40_output_0 = Constant[value = <Tensor>]()\n",
            "  %/Concat_output_0 = Concat[axis = 0](%/Slice_6_output_0, %/Constant_40_output_0)\n",
            "  %/Reshape_output_0 = Reshape[allowzero = 0](%/conv/Conv_output_0, %/Concat_output_0)\n",
            "  %output = Concat[axis = 0](%/Unsqueeze_24_output_0, %/Unsqueeze_25_output_0, %/Unsqueeze_26_output_0, %/Unsqueeze_27_output_0, %/Reshape_output_0)\n",
            "  return %output\n",
            "}\n"
          ]
        }
      ],
      "source": [
        "# print onnx file\n",
        "import onnx\n",
        "\n",
        "# Load the ONNX model\n",
        "model = onnx.load(model_path)\n",
        "\n",
        "# Print a human-readable representation of the model\n",
        "print(onnx.helper.printable_graph(model.graph))"
      ]
    },
    {
      "cell_type": "markdown",
      "id": "PqQ0fTXJbocJ",
      "metadata": {
        "id": "PqQ0fTXJbocJ"
      },
      "source": [
        "# 5. Setup Phase"
      ]
    },
    {
      "cell_type": "markdown",
      "source": [
        "We setup **input** is *private*, **output** is *public* and model parameters is *fixed* (mean baked into model)"
      ],
      "metadata": {
        "id": "8iR8NeFhkuk2"
      },
      "id": "8iR8NeFhkuk2"
    },
    {
      "cell_type": "code",
      "execution_count": 33,
      "id": "_GGmHhwOb8em",
      "metadata": {
        "id": "_GGmHhwOb8em"
      },
      "outputs": [],
      "source": [
        "py_run_args = ezkl.PyRunArgs()\n",
        "py_run_args.input_visibility = \"private\"\n",
        "py_run_args.output_visibility = \"public\"\n",
        "py_run_args.param_visibility = \"fixed\" # private by default\n",
        "py_run_args.input_scale = 40\n",
        "py_run_args.param_scale = 43\n",
        "py_run_args.scale_rebase_multiplier = 10\n",
        "\n",
        "res = ezkl.gen_settings(model_path, settings_path, py_run_args=py_run_args)\n",
        "\n",
        "assert res == True"
      ]
    },
    {
      "cell_type": "code",
      "execution_count": 34,
      "id": "tkPJNlXEeaDi",
      "metadata": {
        "id": "tkPJNlXEeaDi"
      },
      "outputs": [],
      "source": [
        "res = ezkl.compile_circuit(model_path, compiled_model_path, settings_path)\n",
        "assert res == True"
      ]
    },
    {
      "cell_type": "code",
      "execution_count": 35,
      "id": "sC5GCZIUei1F",
      "metadata": {
        "id": "sC5GCZIUei1F"
      },
      "outputs": [],
      "source": [
        "# srs path\n",
        "res = await ezkl.get_srs(settings_path)"
      ]
    },
    {
      "cell_type": "code",
      "execution_count": 37,
      "id": "ZqW7w4vaemed",
      "metadata": {
        "id": "ZqW7w4vaemed"
      },
      "outputs": [],
      "source": [
        "# now generate the witness file\n",
        "\n",
        "res = await ezkl.gen_witness(data_path, compiled_model_path, witness_path)\n",
        "assert os.path.isfile(witness_path)"
      ]
    },
    {
      "cell_type": "code",
      "execution_count": 38,
      "id": "n3V8-j0WepaL",
      "metadata": {
        "colab": {
          "base_uri": "https://localhost:8080/"
        },
        "id": "n3V8-j0WepaL",
        "outputId": "9dba3964-7008-4dde-92f9-bf19c90bded9"
      },
      "outputs": [
        {
          "output_type": "stream",
          "name": "stdout",
          "text": [
            "Elapsed time: 32.256114 seconds\n"
          ]
        }
      ],
      "source": [
        "\n",
        "# HERE WE SETUP THE CIRCUIT PARAMS\n",
        "# WE GOT KEYS\n",
        "# WE GOT CIRCUIT PARAMETERS\n",
        "# EVERYTHING ANYONE HAS EVER NEEDED FOR ZK\n",
        "\n",
        "\n",
        "import time\n",
        "\n",
        "# Start time\n",
        "start_time = time.time()\n",
        "\n",
        "res = ezkl.setup(\n",
        "        compiled_model_path,\n",
        "        vk_path,\n",
        "        pk_path,\n",
        "\n",
        "    )\n",
        "\n",
        "assert res == True\n",
        "assert os.path.isfile(vk_path)\n",
        "assert os.path.isfile(pk_path)\n",
        "assert os.path.isfile(settings_path)\n",
        "\n",
        "# End time\n",
        "end_time = time.time()\n",
        "\n",
        "# Calculate elapsed time\n",
        "elapsed_time = end_time - start_time\n",
        "print(f\"Elapsed time: {elapsed_time:.6f} seconds\")"
      ]
    },
    {
      "cell_type": "markdown",
      "id": "5nFMvWwGeqJF",
      "metadata": {
        "id": "5nFMvWwGeqJF"
      },
      "source": [
        "# 6. Proving Phase"
      ]
    },
    {
      "cell_type": "markdown",
      "source": [
        "NOTE: Because our input is image with shape (1, 28, 28), the convolutional layer we define with 2 out channel, stride 2 --> output of conv layer will have shape (1,2,14,14)\n",
        "\n",
        "So when we flatten it, we will have 2x14x14 = 288 elements. Plus 4 element for commit value, we have total 292 elements.\n",
        "\n",
        "Because we set up output is public, you will see 292 value in \"instances\" of the proof - corresponding to 292 elements.\n",
        "\n"
      ],
      "metadata": {
        "id": "c_5HJe9OZxxj"
      },
      "id": "c_5HJe9OZxxj"
    },
    {
      "cell_type": "code",
      "execution_count": null,
      "id": "qe3vTl97er53",
      "metadata": {
        "id": "qe3vTl97er53",
        "colab": {
          "base_uri": "https://localhost:8080/"
        },
        "outputId": "a1bdb912-c727-49f3-e48c-576f7febc808"
      },
      "outputs": [
        {
          "output_type": "stream",
          "name": "stdout",
          "text": [
            "{'instances': [['010000f0d3764defc60b2a4354dad00f5d588181b64550b829a031e1724e6430', '010000f093cd528e156d576384d588075d588181b64550b829a031e1724e6430', '010000f0932d8426ab9ea42470a48f0d5d588181b64550b829a031e1724e6430', '010000f013c6916aeb1d6017b541150b5d588181b64550b829a031e1724e6430', '00000000000000000000000080a3830a00000000000000000000000000000000', '00000000000000000000000080a3830a00000000000000000000000000000000', '00000000000000000000000080a3830a00000000000000000000000000000000', '00000000000000000000000080a3830a00000000000000000000000000000000', '00000000000000000000000080a3830a00000000000000000000000000000000', '00000000000000000000000080a3830a00000000000000000000000000000000', '00000000000000000000000080a3830a00000000000000000000000000000000', '00000000000000000000000080a3830a00000000000000000000000000000000', '00000000000000000000000080a3830a00000000000000000000000000000000', '00000000000000000000000080a3830a00000000000000000000000000000000', '00000000000000000000000080a3830a00000000000000000000000000000000', '00000000000000000000000080a3830a00000000000000000000000000000000', '00000000000000000000000080a3830a00000000000000000000000000000000', '00000000000000000000000080a3830a00000000000000000000000000000000', '000000000000000000f698e2b205800b00000000000000000000000000000000', '00000000000000000054bf32684cb40f00000000000000000000000000000000', '000000000000000040ed8cc1420f971700000000000000000000000000000000', '0000000000000000400bb6c46ef8f32000000000000000000000000000000000', '0000000000000000407c8a8106ac872200000000000000000000000000000000', '00000000000000000024bc17234f5c1400000000000000000000000000000000', '000000000000000000921a39f38d001400000000000000000000000000000000', '0000000000000000007286132b24da0300000000000000000000000000000000', '000000000000000000745814b5a5650800000000000000000000000000000000', '010000f093f5e143916065a834cb95275d588181b64550b829a031e1724e6430', '00000000000000000000000080a3830a00000000000000000000000000000000', '00000000000000000000000080a3830a00000000000000000000000000000000', '000000000000000000c1a8b0ce51210800000000000000000000000000000000', '000000000000000080f773c7e85f550a00000000000000000000000000000000', '000000000000000030d9feb977ef190b00000000000000000000000000000000', '00000000000000008049651fd31d2f0b00000000000000000000000000000000', '000000000000000020b22701c98cf70f00000000000000000000000000000000', '000000000000000080af25840642061100000000000000000000000000000000', '0000000000000000004a6f6029537c0e00000000000000000000000000000000', '0000000000000000807cc3327c82391200000000000000000000000000000000', '000000000000000000af49f17b35e01800000000000000000000000000000000', '000000000000000000a8fcd55ec3611300000000000000000000000000000000', '00000000000000000000000080a3830a00000000000000000000000000000000', '00000000000000000000000080a3830a00000000000000000000000000000000', '0000000000000000c094e50137779e0600000000000000000000000000000000', '000000000000000060650ead63f8460600000000000000000000000000000000', '0000000000000000608d570958b45f1e00000000000000000000000000000000', '000000000000000020f97845d411383900000000000000000000000000000000', '000000000000000000bf0fa4e8ae442800000000000000000000000000000000', '0000000000000000007740c697728e2f00000000000000000000000000000000', '00000000000000000002bde9d0b4ee3000000000000000000000000000000000', '0000000000000000009d403bb5c19c2100000000000000000000000000000000', '000000000000000000d9ebddceb0841a00000000000000000000000000000000', '000000000000000000f259b009e4ee0a00000000000000000000000000000000', '00000000000000000000000080a3830a00000000000000000000000000000000', '00000000000000000000000080a3830a00000000000000000000000000000000', '00000000000000000036e8012464051000000000000000000000000000000000', '0000000000000000c0802a52ef61531c00000000000000000000000000000000', '0000000000000000808c6b1389f0181c00000000000000000000000000000000', '0000000000000000d08c7f9a254a4d3200000000000000000000000000000000', '0000000000000000401cca8a859e272f00000000000000000000000000000000', '0000000000000000c0486fb6a808b81700000000000000000000000000000000', '0000000000000000006ee446c4db6c1200000000000000000000000000000000', '00000000000000000000000080a3830a00000000000000000000000000000000', '00000000000000000000000080a3830a00000000000000000000000000000000', '00000000000000000000000080a3830a00000000000000000000000000000000', '00000000000000000000000080a3830a00000000000000000000000000000000', '00000000000000000000000080a3830a00000000000000000000000000000000', '00000000000000000000000080a3830a00000000000000000000000000000000', '0000000000000000000e634bbd2ecd0a00000000000000000000000000000000', '0000000000000000a05eb9b882b53e0f00000000000000000000000000000000', '000000000000000088b6a2bd9627ad1800000000000000000000000000000000', '000000000000000000d4a28d7ef5032900000000000000000000000000000000', '0000000000000000c036bb926fa68d1400000000000000000000000000000000', '0000000000000000a04ef448305d8b0200000000000000000000000000000000', '000000000000000000727f1f59dc760900000000000000000000000000000000', '00000000000000000000000080a3830a00000000000000000000000000000000', '00000000000000000000000080a3830a00000000000000000000000000000000', '00000000000000000000000080a3830a00000000000000000000000000000000', '00000000000000000000000080a3830a00000000000000000000000000000000', '00000000000000000000000080a3830a00000000000000000000000000000000', '00000000000000000000000080a3830a00000000000000000000000000000000', '0000000000000000001ff546b1b6b10e00000000000000000000000000000000', '0000000000000000001ffea517cd301200000000000000000000000000000000', '00000000000000000075b232ce32b20d00000000000000000000000000000000', '00000000000000000074482fc024421d00000000000000000000000000000000', '000000000000000068393be6c801842100000000000000000000000000000000', '000000000000000000df44e08940f00300000000000000000000000000000000', '00000000000000000000000080a3830a00000000000000000000000000000000', '00000000000000000000000080a3830a00000000000000000000000000000000', '00000000000000000000000080a3830a00000000000000000000000000000000', '00000000000000000000000080a3830a00000000000000000000000000000000', '00000000000000000000000080a3830a00000000000000000000000000000000', '00000000000000000000000080a3830a00000000000000000000000000000000', '00000000000000000000000080a3830a00000000000000000000000000000000', '000000000000000000db98ba39849b1200000000000000000000000000000000', '0000000000000000c050a205803dda2900000000000000000000000000000000', '000000000000000080d3f43528e6752500000000000000000000000000000000', '0000000000000000c0d65920e8cdeb2500000000000000000000000000000000', '0000000000000000c0b1d128ae8b3e0d00000000000000000000000000000000', '000000000000000040c49535d82b3a0800000000000000000000000000000000', '00000000000000000000000080a3830a00000000000000000000000000000000', '00000000000000000000000080a3830a00000000000000000000000000000000', '00000000000000000000000080a3830a00000000000000000000000000000000', '00000000000000000000000080a3830a00000000000000000000000000000000', '000000000000000000d6e8eaa88b4d0b00000000000000000000000000000000', '0000000000000000009ece75f0a8b41300000000000000000000000000000000', '000000000000000000ead75023f7391700000000000000000000000000000000', '0000000000000000007e5557e8ee330f00000000000000000000000000000000', '000000000000000000b6ec11214a841400000000000000000000000000000000', '0000000000000000c0c0ae7e4f0c641f00000000000000000000000000000000', '00000000000000008052639b24840a1400000000000000000000000000000000', '0000000000000000a0292ce990068f0b00000000000000000000000000000000', '00000000000000000000000080a3830a00000000000000000000000000000000', '00000000000000000000000080a3830a00000000000000000000000000000000', '000000000000000000b638f39e111b0b00000000000000000000000000000000', '0000000000000000003813edddbad41400000000000000000000000000000000', '000000000000000000eafabd286a451e00000000000000000000000000000000', '0000000000000000001453507b81670b00000000000000000000000000000000', '00000000000000000047ab71c8f48b0900000000000000000000000000000000', '0000000000000000806d70ac231c590c00000000000000000000000000000000', '000000000000000040bc56a72a5bb52a00000000000000000000000000000000', '000000000000000040a56810c1157e2900000000000000000000000000000000', '000000000000000080b01e276b21811600000000000000000000000000000000', '000000000000000030db089482047d0a00000000000000000000000000000000', '00000000000000000000000080a3830a00000000000000000000000000000000', '000000000000000000d43504b5f1410d00000000000000000000000000000000', '000000000000000000ea9b642d297e0e00000000000000000000000000000000', '0000000000000000800d6912e004650e00000000000000000000000000000000', '0000000000000000003986912393860800000000000000000000000000000000', '000000000000000000a6fb6f03c6570900000000000000000000000000000000', '00000000000000008040a8fa122eb62800000000000000000000000000000000', '000000000000000060a39564fcbee92d00000000000000000000000000000000', '0000000000000000c097b7fc135a112700000000000000000000000000000000', '0000000000000000d0be5ee3807bdf1200000000000000000000000000000000', '0000000000000000008eaee9e46a810900000000000000000000000000000000', '00000000000000000000000080a3830a00000000000000000000000000000000', '00000000000000000000000080a3830a00000000000000000000000000000000', '00000000000000000077d25a135b410800000000000000000000000000000000', '000000000000000000f80b3add866c0c00000000000000000000000000000000', '000000000000000000165fefac20451f00000000000000000000000000000000', '000000000000000080e1a6022e68dd3400000000000000000000000000000000', '0000000000000000c014a5486d2dd23200000000000000000000000000000000', '000000000000000080bf153f2740572800000000000000000000000000000000', '00000000000000004077eef3a211d01300000000000000000000000000000000', '000000000000000000a0de0a87c0ce0900000000000000000000000000000000', '00000000000000000000000080a3830a00000000000000000000000000000000', '00000000000000000000000080a3830a00000000000000000000000000000000', '00000000000000000000000080a3830a00000000000000000000000000000000', '00000000000000000000000080a3830a00000000000000000000000000000000', '010000f093f5e1439170b97978c74e225d588181b64550b829a031e1724e6430', '010000f093f5e1439170b97978c74e225d588181b64550b829a031e1724e6430', '010000f093f5e1439170b97978c74e225d588181b64550b829a031e1724e6430', '010000f093f5e1439170b97978c74e225d588181b64550b829a031e1724e6430', '010000f093f5e1439170b97978c74e225d588181b64550b829a031e1724e6430', '010000f093f5e1439170b97978c74e225d588181b64550b829a031e1724e6430', '010000f093f5e1439170b97978c74e225d588181b64550b829a031e1724e6430', '010000f093f5e1439170b97978c74e225d588181b64550b829a031e1724e6430', '010000f093f5e1439170b97978c74e225d588181b64550b829a031e1724e6430', '010000f093f5e1439170b97978c74e225d588181b64550b829a031e1724e6430', '010000f093f5e1439170b97978c74e225d588181b64550b829a031e1724e6430', '010000f093f5e1439170b97978c74e225d588181b64550b829a031e1724e6430', '010000f093f5e1439170b97978c74e225d588181b64550b829a031e1724e6430', '010000f093f5e1439170b97978c74e225d588181b64550b829a031e1724e6430', '010000f093f5e14391e7c285e85e0f235d588181b64550b829a031e1724e6430', '010000f093f5e14351fdda515b8e86245d588181b64550b829a031e1724e6430', '010000f093f5e14311ed5193b8becf245d588181b64550b829a031e1724e6430', '010000f093f5e143912a00d78b69ba215d588181b64550b829a031e1724e6430', '010000f093f5e143c1252a736e9e9c195d588181b64550b829a031e1724e6430', '010000f093f5e143110af314b4c584125d588181b64550b829a031e1724e6430', '010000f093f5e14391e406a1ee9b63195d588181b64550b829a031e1724e6430', '010000f093f5e143913a32756809460c5d588181b64550b829a031e1724e6430', '010000f093f5e14391f9b50d0dcc2d1a5d588181b64550b829a031e1724e6430', '010000f093f5e14391904c999e17871e5d588181b64550b829a031e1724e6430', '010000f093f5e1439170b97978c74e225d588181b64550b829a031e1724e6430', '010000f093f5e1439170b97978c74e225d588181b64550b829a031e1724e6430', '010000f093f5e143d197e08fc66c271d5d588181b64550b829a031e1724e6430', '010000f093f5e1431136fa2b1707441b5d588181b64550b829a031e1724e6430', '010000f093f5e143d1dfa102d62103195d588181b64550b829a031e1724e6430', '010000f093f5e14351a04dfa7bb1411c5d588181b64550b829a031e1724e6430', '010000f093f5e14391d7c16a0e580d195d588181b64550b829a031e1724e6430', '010000f093f5e1439114e022c344d61c5d588181b64550b829a031e1724e6430', '010000f093f5e14391b789046083581e5d588181b64550b829a031e1724e6430', '010000f093f5e1439172fc1de7e240225d588181b64550b829a031e1724e6430', '000000000000000000920ba2381f920500000000000000000000000000000000', '010000f093f5e1439167b83eaf7f05155d588181b64550b829a031e1724e6430', '010000f093f5e1439170b97978c74e225d588181b64550b829a031e1724e6430', '010000f093f5e1439170b97978c74e225d588181b64550b829a031e1724e6430', '010000f093f5e14391dd3ae41eb6b61d5d588181b64550b829a031e1724e6430', '0000000000000000105eab6595249a0500000000000000000000000000000000', '0000000000000000c439ea0f150d160000000000000000000000000000000000', '0000000000000000e06fb537d33e6d0200000000000000000000000000000000', '000000000000000000159d046524b30700000000000000000000000000000000', '0000000000000000c0f639efd10eb90600000000000000000000000000000000', '00000000000000000079b56e38e2550400000000000000000000000000000000', '000000000000000000eeeac321e5450300000000000000000000000000000000', '000000000000000000985e245bcd130200000000000000000000000000000000', '010000f093f5e14391d327c3117dfa215d588181b64550b829a031e1724e6430', '010000f093f5e1439170b97978c74e225d588181b64550b829a031e1724e6430', '010000f093f5e1439170b97978c74e225d588181b64550b829a031e1724e6430', '010000f093f5e14391d8d0b7c7a9dc225d588181b64550b829a031e1724e6430', '0000000000000000c0209251d01e630200000000000000000000000000000000', '000000000000000038990e2111672f0400000000000000000000000000000000', '0000000000000000a00b9abc9f31bb1700000000000000000000000000000000', '010000f093f5e1439146485c117d76165d588181b64550b829a031e1724e6430', '0000000000000000301853b6ac7a970100000000000000000000000000000000', '010000f093f5e14391d4344e56b129265d588181b64550b829a031e1724e6430', '010000f093f5e1439170b97978c74e225d588181b64550b829a031e1724e6430', '010000f093f5e1439170b97978c74e225d588181b64550b829a031e1724e6430', '010000f093f5e1439170b97978c74e225d588181b64550b829a031e1724e6430', '010000f093f5e1439170b97978c74e225d588181b64550b829a031e1724e6430', '010000f093f5e1439170b97978c74e225d588181b64550b829a031e1724e6430', '010000f093f5e1439170b97978c74e225d588181b64550b829a031e1724e6430', '010000f093f5e1430119e05024f1cd215d588181b64550b829a031e1724e6430', '010000f093f5e14311cdc4d469e88f1f5d588181b64550b829a031e1724e6430', '00000000000000000e5b3915f62fb40f00000000000000000000000000000000', '010000f093f5e1435163493fb87ddd1e5d588181b64550b829a031e1724e6430', '010000f093f5e14391bad8eb3397bd175d588181b64550b829a031e1724e6430', '010000f093f5e143d1a66ff37829841a5d588181b64550b829a031e1724e6430', '010000f093f5e14391d6b5e9d4e9e6215d588181b64550b829a031e1724e6430', '010000f093f5e1439170b97978c74e225d588181b64550b829a031e1724e6430', '010000f093f5e1439170b97978c74e225d588181b64550b829a031e1724e6430', '010000f093f5e1439170b97978c74e225d588181b64550b829a031e1724e6430', '010000f093f5e1439170b97978c74e225d588181b64550b829a031e1724e6430', '010000f093f5e1439170b97978c74e225d588181b64550b829a031e1724e6430', '010000f093f5e1439170b97978c74e225d588181b64550b829a031e1724e6430', '010000f093f5e14391ccb25c6b61a0245d588181b64550b829a031e1724e6430', '010000f093f5e14371df6546961560275d588181b64550b829a031e1724e6430', '000000000000000040d82ab8ead7eb0b00000000000000000000000000000000', '010000f093f5e143814f956ff964cd1e5d588181b64550b829a031e1724e6430', '010000f093f5e143117583eb1f5685135d588181b64550b829a031e1724e6430', '010000f093f5e1439166d676ff6370185d588181b64550b829a031e1724e6430', '010000f093f5e1439170b97978c74e225d588181b64550b829a031e1724e6430', '010000f093f5e1439170b97978c74e225d588181b64550b829a031e1724e6430', '010000f093f5e1439170b97978c74e225d588181b64550b829a031e1724e6430', '010000f093f5e1439170b97978c74e225d588181b64550b829a031e1724e6430', '010000f093f5e1439170b97978c74e225d588181b64550b829a031e1724e6430', '010000f093f5e1439170b97978c74e225d588181b64550b829a031e1724e6430', '010000f093f5e1439170b97978c74e225d588181b64550b829a031e1724e6430', '010000f093f5e14391ca81eaa3fed3235d588181b64550b829a031e1724e6430', '0000000000000000805f8ef74fd7bb0300000000000000000000000000000000', '000000000000000000a8b0b0f691330c00000000000000000000000000000000', '010000f093f5e143717dcb7a22a084205d588181b64550b829a031e1724e6430', '010000f093f5e143394baadcd148cc145d588181b64550b829a031e1724e6430', '010000f093f5e143513d85c5f58ebb215d588181b64550b829a031e1724e6430', '010000f093f5e1439170b97978c74e225d588181b64550b829a031e1724e6430', '010000f093f5e1439170b97978c74e225d588181b64550b829a031e1724e6430', '010000f093f5e1439170b97978c74e225d588181b64550b829a031e1724e6430', '010000f093f5e1439170b97978c74e225d588181b64550b829a031e1724e6430', '010000f093f5e143919747ac38dae8225d588181b64550b829a031e1724e6430', '010000f093f5e143d13f53ec6bc93c265d588181b64550b829a031e1724e6430', '010000f093f5e143917e1f7322ed2c185d588181b64550b829a031e1724e6430', '010000f093f5e143915e4927ef36481a5d588181b64550b829a031e1724e6430', '010000f093f5e14351aa1917e4ba1a155d588181b64550b829a031e1724e6430', '000000000000000080c76292fbedbd0c00000000000000000000000000000000', '010000f093f5e143c1ed9b9543fd16205d588181b64550b829a031e1724e6430', '010000f093f5e143d1ce6442b2e4b51f5d588181b64550b829a031e1724e6430', '010000f093f5e1439170b97978c74e225d588181b64550b829a031e1724e6430', '010000f093f5e1439170b97978c74e225d588181b64550b829a031e1724e6430', '010000f093f5e1439147ccd28855c2225d588181b64550b829a031e1724e6430', '010000f093f5e143d19edff3709308275d588181b64550b829a031e1724e6430', '010000f093f5e14391ea79cde44b65195d588181b64550b829a031e1724e6430', '010000f093f5e1439103c4e936215c165d588181b64550b829a031e1724e6430', '010000f093f5e14391f41e17e6ae51165d588181b64550b829a031e1724e6430', '010000f093f5e143310985868613c8275d588181b64550b829a031e1724e6430', '0000000000000000c0b15988555be40400000000000000000000000000000000', '0000000000000000e00479dd64bef00500000000000000000000000000000000', '010000f093f5e143d111009b1e76451b5d588181b64550b829a031e1724e6430', '010000f093f5e1432d92735685aa50225d588181b64550b829a031e1724e6430', '010000f093f5e1439170b97978c74e225d588181b64550b829a031e1724e6430', '010000f093f5e143914041de632c5b235d588181b64550b829a031e1724e6430', '010000f093f5e143919ed19b58b8221a5d588181b64550b829a031e1724e6430', '010000f093f5e14311e31b42743e911a5d588181b64550b829a031e1724e6430', '010000f093f5e143913132d0fc8654175d588181b64550b829a031e1724e6430', '010000f093f5e143d137dfdf42d5bd245d588181b64550b829a031e1724e6430', '0000000000000000e0e72221da06f00600000000000000000000000000000000', '0000000000000000003cb215b4be800600000000000000000000000000000000', '010000f093f5e1437187f3c4b7ec6d245d588181b64550b829a031e1724e6430', '010000f093f5e143914c88c4b521cd245d588181b64550b829a031e1724e6430', '010000f093f5e1431146c4ff6d5e98225d588181b64550b829a031e1724e6430', '010000f093f5e1439170b97978c74e225d588181b64550b829a031e1724e6430', '010000f093f5e1439170b97978c74e225d588181b64550b829a031e1724e6430', '010000f093f5e143915432499c70b3245d588181b64550b829a031e1724e6430', '000000000000000000678805651c9a0200000000000000000000000000000000', '00000000000000000092d109fba5230c00000000000000000000000000000000', '0000000000000000e07e98a26bc3610600000000000000000000000000000000', '0000000000000000008c6f3a7100360500000000000000000000000000000000', '010000f093f5e143119ac9d9a86869265d588181b64550b829a031e1724e6430', '010000f093f5e143918adb744d029e225d588181b64550b829a031e1724e6430', '010000f093f5e143f1a6610de4c2ab225d588181b64550b829a031e1724e6430', '010000f093f5e1439170b97978c74e225d588181b64550b829a031e1724e6430', '010000f093f5e1439170b97978c74e225d588181b64550b829a031e1724e6430', '010000f093f5e1439170b97978c74e225d588181b64550b829a031e1724e6430', '010000f093f5e1439170b97978c74e225d588181b64550b829a031e1724e6430']], 'proof': '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', 'transcript_type': 'EVM'}\n",
            "Elapsed time: 28.362324 seconds\n"
          ]
        }
      ],
      "source": [
        "## Model-owner don't do this part\n",
        "\n",
        "\n",
        "# # GENERATE A PROOF\n",
        "\n",
        "# # Start time\n",
        "# start_proving_time = time.time()\n",
        "\n",
        "# proof_path = os.path.join('generating_files/proof.pf')\n",
        "\n",
        "# res = ezkl.prove(\n",
        "#         witness_path,\n",
        "#         compiled_model_path,\n",
        "#         pk_path,\n",
        "#         proof_path,\n",
        "\n",
        "#         \"single\",\n",
        "#     )\n",
        "\n",
        "# print(res)\n",
        "# assert os.path.isfile(proof_path)\n",
        "\n",
        "\n",
        "# # End time\n",
        "# end_proving_time = time.time()\n",
        "\n",
        "# # Calculate elapsed time\n",
        "# elapsed_proving_time = end_proving_time - start_proving_time\n",
        "# print(f\"Elapsed time: {elapsed_time:.6f} seconds\")"
      ]
    },
    {
      "cell_type": "markdown",
      "id": "BequUUUJevHA",
      "metadata": {
        "id": "BequUUUJevHA"
      },
      "source": [
        "# 7. Verification Phase"
      ]
    },
    {
      "cell_type": "code",
      "source": [
        "# copy proof file from Data-Owner and past to here to verify\n",
        "proof_path = os.path.join('generating_files/proof.pf')"
      ],
      "metadata": {
        "id": "gbYwALenlNbC"
      },
      "id": "gbYwALenlNbC",
      "execution_count": 39,
      "outputs": []
    },
    {
      "cell_type": "code",
      "execution_count": 40,
      "id": "FLEruRp1ewe1",
      "metadata": {
        "id": "FLEruRp1ewe1",
        "colab": {
          "base_uri": "https://localhost:8080/"
        },
        "outputId": "496edbd7-b24f-4153-dae2-2481fcabc141"
      },
      "outputs": [
        {
          "output_type": "stream",
          "name": "stdout",
          "text": [
            "verified\n",
            "Elapsed time: 0.570134 seconds\n"
          ]
        }
      ],
      "source": [
        "# Start time\n",
        "start_verify_time = time.time()\n",
        "\n",
        "# VERIFY IT\n",
        "\n",
        "res = ezkl.verify(\n",
        "        proof_path,\n",
        "        settings_path,\n",
        "        vk_path,\n",
        "    )\n",
        "\n",
        "assert res == True\n",
        "print(\"verified\")\n",
        "\n",
        "\n",
        "# End time\n",
        "end_verify_time = time.time()\n",
        "\n",
        "# Calculate elapsed time\n",
        "elapsed_verify_time = end_verify_time - start_verify_time\n",
        "print(f\"Elapsed time: {elapsed_verify_time:.6f} seconds\")"
      ]
    },
    {
      "cell_type": "markdown",
      "id": "3hzNVxGTEaVb",
      "metadata": {
        "id": "3hzNVxGTEaVb"
      },
      "source": [
        "# 8. Extract Data from Proof & Continue Training:"
      ]
    },
    {
      "cell_type": "markdown",
      "source": [
        "In this step, we will \"translate\" from each value in \"instances\" column of proof to float value - corresponding with 292 elements (4 commit values + 288 values of result)\n"
      ],
      "metadata": {
        "id": "Zx_BGp5Xa8ZV"
      },
      "id": "Zx_BGp5Xa8ZV"
    },
    {
      "cell_type": "markdown",
      "source": [
        "![Proof-Instances](https://raw.githubusercontent.com/BaoNinh2808/cm24-projects/refs/heads/main/AI%20Training%20Data%20Selling%20with%20Privacy%20Protection%20(for%20client)/images/proof.png)"
      ],
      "metadata": {
        "id": "YStZGLMbduHj"
      },
      "id": "YStZGLMbduHj"
    },
    {
      "cell_type": "markdown",
      "source": [
        "We will use api felt_to_float to 'translate'"
      ],
      "metadata": {
        "id": "ojpIzxw4bSSc"
      },
      "id": "ojpIzxw4bSSc"
    },
    {
      "cell_type": "code",
      "execution_count": 41,
      "id": "tBeY2X26u15q",
      "metadata": {
        "colab": {
          "base_uri": "https://localhost:8080/"
        },
        "id": "tBeY2X26u15q",
        "outputId": "491b7af6-2382-4646-92fc-108100a3e96e"
      },
      "outputs": [
        {
          "output_type": "stream",
          "name": "stdout",
          "text": [
            "-0.38104580735147514\n"
          ]
        }
      ],
      "source": [
        "# mean of commit-convolutional layer of the 1st part (top-left) of the image\n",
        "print(ezkl.felt_to_float('010000f0d3764defc60b2a4354dad00f5d588181b64550b829a031e1724e6430', 126))\n",
        "# the result will be -0.38104580735147514"
      ]
    },
    {
      "cell_type": "markdown",
      "source": [
        "The output will equal to rescale output that have pre-calculate in the proof\n",
        "\n",
        "But in real life, Model Owner must 'translate' the output from the proof again, don't rely on the value that Prover (Data Owner) have calculated and write in the proof, because Prover can cheat at this point.\n",
        "\n",
        "![Rescale-Output](https://raw.githubusercontent.com/BaoNinh2808/cm24-projects/refs/heads/main/AI%20Training%20Data%20Selling%20with%20Privacy%20Protection%20(for%20client)/images/rescaled_outputs.png)"
      ],
      "metadata": {
        "id": "i_2wSdtscoes"
      },
      "id": "i_2wSdtscoes"
    },
    {
      "cell_type": "code",
      "source": [
        "# extract result from proof ....\n",
        "# ...\n",
        "# continue training ...."
      ],
      "metadata": {
        "id": "5aG4TFrjYcQs"
      },
      "id": "5aG4TFrjYcQs",
      "execution_count": null,
      "outputs": []
    }
  ],
  "metadata": {
    "colab": {
      "provenance": []
    },
    "kernelspec": {
      "display_name": "Python 3 (ipykernel)",
      "language": "python",
      "name": "python3"
    },
    "language_info": {
      "codemirror_mode": {
        "name": "ipython",
        "version": 3
      },
      "file_extension": ".py",
      "mimetype": "text/x-python",
      "name": "python",
      "nbconvert_exporter": "python",
      "pygments_lexer": "ipython3",
      "version": "3.9.15"
    }
  },
  "nbformat": 4,
  "nbformat_minor": 5
}